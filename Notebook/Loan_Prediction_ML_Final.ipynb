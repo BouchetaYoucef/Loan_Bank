{
 "cells": [
  {
   "cell_type": "markdown",
   "id": "f41d346a",
   "metadata": {},
   "source": [
    "# NOTEBOOK_ML📕\n",
    "Prévision crédit Immobilier "
   ]
  },
  {
   "cell_type": "code",
   "execution_count": 18,
   "id": "fdd4174b",
   "metadata": {},
   "outputs": [],
   "source": [
    "import mysql.connector\n",
    "import pymysql\n",
    "import sqlite3"
   ]
  },
  {
   "cell_type": "code",
   "execution_count": 19,
   "id": "4c387a53",
   "metadata": {},
   "outputs": [],
   "source": [
    "data_base = mysql.connector.connect(host=\"localhost\" , user=\"root\" , password=\"youcef\" , database=\"loan_prediction\")\n",
    "cur = data_base.cursor(buffered=True)\n",
    "query = \"select * from loan_prediction.df_clean_train\"\n",
    "cur.execute(query)\n",
    "tables = cur.fetchone()"
   ]
  },
  {
   "cell_type": "code",
   "execution_count": 140,
   "id": "d2b9ccd7",
   "metadata": {},
   "outputs": [],
   "source": [
    "# Importer les packages\n",
    "import pandas as pd\n",
    "import matplotlib.pyplot as plt\n",
    "import seaborn as sns\n",
    "\n",
    "from sklearn.linear_model import LogisticRegression\n",
    "from sklearn.model_selection import train_test_split\n",
    "from sklearn.metrics import accuracy_score,classification_report\n",
    "from sklearn.metrics import plot_confusion_matrix\n",
    "from sklearn.metrics import confusion_matrix\n",
    "from sklearn.model_selection import learning_curve\n",
    "from imblearn.over_sampling import SMOTE\n",
    "from imblearn.pipeline import Pipeline as imbpipeline\n",
    "from sklearn.pipeline import Pipeline , make_pipeline\n",
    "from sklearn.preprocessing import MinMaxScaler\n",
    "from sklearn.preprocessing import StandardScaler\n",
    "from sklearn.dummy import DummyClassifier\n",
    "# from transformers import pipeline\n",
    "from sklearn.pipeline import make_pipeline\n",
    "from sklearn.preprocessing import LabelEncoder\n",
    "from sklearn.preprocessing import OneHotEncoder\n",
    "\n",
    "from sklearn.model_selection import GridSearchCV , cross_val_score\n",
    "from sklearn.neighbors import KNeighborsClassifier\n",
    "from sklearn.svm import SVC\n",
    "from sklearn.ensemble import BaggingClassifier , AdaBoostClassifier , StackingClassifier , GradientBoostingClassifier\n",
    "from sklearn.metrics import plot_confusion_matrix , classification_report\n",
    "from scikitplot.estimators import plot_learning_curve\n",
    "import scikitplot as skplt\n",
    "from yellowbrick.model_selection import LearningCurve\n",
    "from sklearn.neighbors import KNeighborsClassifier\n",
    "from sklearn.tree import DecisionTreeClassifier\n",
    "from sklearn.ensemble import GradientBoostingClassifier\n",
    "from sklearn.model_selection import cross_validate\n",
    "from sklearn.model_selection import cross_val_score\n",
    "from sklearn.model_selection import cross_val_predict\n",
    "from sklearn.ensemble import RandomForestClassifier\n",
    "from sklearn.pipeline import FeatureUnion\n",
    "import pickle"
   ]
  },
  {
   "cell_type": "code",
   "execution_count": 21,
   "id": "5c16f54a",
   "metadata": {},
   "outputs": [
    {
     "name": "stderr",
     "output_type": "stream",
     "text": [
      "C:\\Users\\simplon\\anaconda3\\lib\\site-packages\\pandas\\io\\sql.py:762: UserWarning: pandas only support SQLAlchemy connectable(engine/connection) ordatabase string URI or sqlite3 DBAPI2 connectionother DBAPI2 objects are not tested, please consider using SQLAlchemy\n",
      "  warnings.warn(\n"
     ]
    }
   ],
   "source": [
    "df_clean=pd.read_sql(query , data_base)"
   ]
  },
  {
   "cell_type": "code",
   "execution_count": 22,
   "id": "c5058001",
   "metadata": {},
   "outputs": [
    {
     "data": {
      "text/html": [
       "<div>\n",
       "<style scoped>\n",
       "    .dataframe tbody tr th:only-of-type {\n",
       "        vertical-align: middle;\n",
       "    }\n",
       "\n",
       "    .dataframe tbody tr th {\n",
       "        vertical-align: top;\n",
       "    }\n",
       "\n",
       "    .dataframe thead th {\n",
       "        text-align: right;\n",
       "    }\n",
       "</style>\n",
       "<table border=\"1\" class=\"dataframe\">\n",
       "  <thead>\n",
       "    <tr style=\"text-align: right;\">\n",
       "      <th></th>\n",
       "      <th>MyUnknownColumn</th>\n",
       "      <th>Loan_ID</th>\n",
       "      <th>Gender</th>\n",
       "      <th>Married</th>\n",
       "      <th>Dependents</th>\n",
       "      <th>Education</th>\n",
       "      <th>Self_Employed</th>\n",
       "      <th>ApplicantIncome</th>\n",
       "      <th>CoapplicantIncome</th>\n",
       "      <th>LoanAmount</th>\n",
       "      <th>Loan_Amount_Term</th>\n",
       "      <th>Credit_History</th>\n",
       "      <th>Property_Area</th>\n",
       "      <th>Loan_Status</th>\n",
       "    </tr>\n",
       "  </thead>\n",
       "  <tbody>\n",
       "    <tr>\n",
       "      <th>0</th>\n",
       "      <td>0</td>\n",
       "      <td>LP001002</td>\n",
       "      <td>Male</td>\n",
       "      <td>No</td>\n",
       "      <td>0</td>\n",
       "      <td>Graduate</td>\n",
       "      <td>No</td>\n",
       "      <td>5849</td>\n",
       "      <td>0.0</td>\n",
       "      <td>128.0</td>\n",
       "      <td>360.0</td>\n",
       "      <td>1.0</td>\n",
       "      <td>Urban</td>\n",
       "      <td>Y</td>\n",
       "    </tr>\n",
       "    <tr>\n",
       "      <th>1</th>\n",
       "      <td>1</td>\n",
       "      <td>LP001003</td>\n",
       "      <td>Male</td>\n",
       "      <td>Yes</td>\n",
       "      <td>1</td>\n",
       "      <td>Graduate</td>\n",
       "      <td>No</td>\n",
       "      <td>4583</td>\n",
       "      <td>1508.0</td>\n",
       "      <td>128.0</td>\n",
       "      <td>360.0</td>\n",
       "      <td>1.0</td>\n",
       "      <td>Rural</td>\n",
       "      <td>N</td>\n",
       "    </tr>\n",
       "    <tr>\n",
       "      <th>2</th>\n",
       "      <td>2</td>\n",
       "      <td>LP001005</td>\n",
       "      <td>Male</td>\n",
       "      <td>Yes</td>\n",
       "      <td>0</td>\n",
       "      <td>Graduate</td>\n",
       "      <td>Yes</td>\n",
       "      <td>3000</td>\n",
       "      <td>0.0</td>\n",
       "      <td>66.0</td>\n",
       "      <td>360.0</td>\n",
       "      <td>1.0</td>\n",
       "      <td>Urban</td>\n",
       "      <td>Y</td>\n",
       "    </tr>\n",
       "    <tr>\n",
       "      <th>3</th>\n",
       "      <td>3</td>\n",
       "      <td>LP001006</td>\n",
       "      <td>Male</td>\n",
       "      <td>Yes</td>\n",
       "      <td>0</td>\n",
       "      <td>Not Graduate</td>\n",
       "      <td>No</td>\n",
       "      <td>2583</td>\n",
       "      <td>2358.0</td>\n",
       "      <td>120.0</td>\n",
       "      <td>360.0</td>\n",
       "      <td>1.0</td>\n",
       "      <td>Urban</td>\n",
       "      <td>Y</td>\n",
       "    </tr>\n",
       "    <tr>\n",
       "      <th>4</th>\n",
       "      <td>4</td>\n",
       "      <td>LP001008</td>\n",
       "      <td>Male</td>\n",
       "      <td>No</td>\n",
       "      <td>0</td>\n",
       "      <td>Graduate</td>\n",
       "      <td>No</td>\n",
       "      <td>6000</td>\n",
       "      <td>0.0</td>\n",
       "      <td>141.0</td>\n",
       "      <td>360.0</td>\n",
       "      <td>1.0</td>\n",
       "      <td>Urban</td>\n",
       "      <td>Y</td>\n",
       "    </tr>\n",
       "    <tr>\n",
       "      <th>...</th>\n",
       "      <td>...</td>\n",
       "      <td>...</td>\n",
       "      <td>...</td>\n",
       "      <td>...</td>\n",
       "      <td>...</td>\n",
       "      <td>...</td>\n",
       "      <td>...</td>\n",
       "      <td>...</td>\n",
       "      <td>...</td>\n",
       "      <td>...</td>\n",
       "      <td>...</td>\n",
       "      <td>...</td>\n",
       "      <td>...</td>\n",
       "      <td>...</td>\n",
       "    </tr>\n",
       "    <tr>\n",
       "      <th>558</th>\n",
       "      <td>608</td>\n",
       "      <td>LP002974</td>\n",
       "      <td>Male</td>\n",
       "      <td>Yes</td>\n",
       "      <td>0</td>\n",
       "      <td>Graduate</td>\n",
       "      <td>No</td>\n",
       "      <td>3232</td>\n",
       "      <td>1950.0</td>\n",
       "      <td>108.0</td>\n",
       "      <td>360.0</td>\n",
       "      <td>1.0</td>\n",
       "      <td>Rural</td>\n",
       "      <td>Y</td>\n",
       "    </tr>\n",
       "    <tr>\n",
       "      <th>559</th>\n",
       "      <td>609</td>\n",
       "      <td>LP002978</td>\n",
       "      <td>Female</td>\n",
       "      <td>No</td>\n",
       "      <td>0</td>\n",
       "      <td>Graduate</td>\n",
       "      <td>No</td>\n",
       "      <td>2900</td>\n",
       "      <td>0.0</td>\n",
       "      <td>71.0</td>\n",
       "      <td>360.0</td>\n",
       "      <td>1.0</td>\n",
       "      <td>Rural</td>\n",
       "      <td>Y</td>\n",
       "    </tr>\n",
       "    <tr>\n",
       "      <th>560</th>\n",
       "      <td>611</td>\n",
       "      <td>LP002983</td>\n",
       "      <td>Male</td>\n",
       "      <td>Yes</td>\n",
       "      <td>1</td>\n",
       "      <td>Graduate</td>\n",
       "      <td>No</td>\n",
       "      <td>8072</td>\n",
       "      <td>240.0</td>\n",
       "      <td>253.0</td>\n",
       "      <td>360.0</td>\n",
       "      <td>1.0</td>\n",
       "      <td>Urban</td>\n",
       "      <td>Y</td>\n",
       "    </tr>\n",
       "    <tr>\n",
       "      <th>561</th>\n",
       "      <td>612</td>\n",
       "      <td>LP002984</td>\n",
       "      <td>Male</td>\n",
       "      <td>Yes</td>\n",
       "      <td>2</td>\n",
       "      <td>Graduate</td>\n",
       "      <td>No</td>\n",
       "      <td>7583</td>\n",
       "      <td>0.0</td>\n",
       "      <td>187.0</td>\n",
       "      <td>360.0</td>\n",
       "      <td>1.0</td>\n",
       "      <td>Urban</td>\n",
       "      <td>Y</td>\n",
       "    </tr>\n",
       "    <tr>\n",
       "      <th>562</th>\n",
       "      <td>613</td>\n",
       "      <td>LP002990</td>\n",
       "      <td>Female</td>\n",
       "      <td>No</td>\n",
       "      <td>0</td>\n",
       "      <td>Graduate</td>\n",
       "      <td>Yes</td>\n",
       "      <td>4583</td>\n",
       "      <td>0.0</td>\n",
       "      <td>133.0</td>\n",
       "      <td>360.0</td>\n",
       "      <td>0.0</td>\n",
       "      <td>Semiurban</td>\n",
       "      <td>N</td>\n",
       "    </tr>\n",
       "  </tbody>\n",
       "</table>\n",
       "<p>563 rows × 14 columns</p>\n",
       "</div>"
      ],
      "text/plain": [
       "     MyUnknownColumn   Loan_ID  Gender Married  Dependents     Education  \\\n",
       "0                  0  LP001002    Male      No           0      Graduate   \n",
       "1                  1  LP001003    Male     Yes           1      Graduate   \n",
       "2                  2  LP001005    Male     Yes           0      Graduate   \n",
       "3                  3  LP001006    Male     Yes           0  Not Graduate   \n",
       "4                  4  LP001008    Male      No           0      Graduate   \n",
       "..               ...       ...     ...     ...         ...           ...   \n",
       "558              608  LP002974    Male     Yes           0      Graduate   \n",
       "559              609  LP002978  Female      No           0      Graduate   \n",
       "560              611  LP002983    Male     Yes           1      Graduate   \n",
       "561              612  LP002984    Male     Yes           2      Graduate   \n",
       "562              613  LP002990  Female      No           0      Graduate   \n",
       "\n",
       "    Self_Employed  ApplicantIncome  CoapplicantIncome  LoanAmount  \\\n",
       "0              No             5849                0.0       128.0   \n",
       "1              No             4583             1508.0       128.0   \n",
       "2             Yes             3000                0.0        66.0   \n",
       "3              No             2583             2358.0       120.0   \n",
       "4              No             6000                0.0       141.0   \n",
       "..            ...              ...                ...         ...   \n",
       "558            No             3232             1950.0       108.0   \n",
       "559            No             2900                0.0        71.0   \n",
       "560            No             8072              240.0       253.0   \n",
       "561            No             7583                0.0       187.0   \n",
       "562           Yes             4583                0.0       133.0   \n",
       "\n",
       "     Loan_Amount_Term  Credit_History Property_Area Loan_Status  \n",
       "0               360.0             1.0         Urban           Y  \n",
       "1               360.0             1.0         Rural           N  \n",
       "2               360.0             1.0         Urban           Y  \n",
       "3               360.0             1.0         Urban           Y  \n",
       "4               360.0             1.0         Urban           Y  \n",
       "..                ...             ...           ...         ...  \n",
       "558             360.0             1.0         Rural           Y  \n",
       "559             360.0             1.0         Rural           Y  \n",
       "560             360.0             1.0         Urban           Y  \n",
       "561             360.0             1.0         Urban           Y  \n",
       "562             360.0             0.0     Semiurban           N  \n",
       "\n",
       "[563 rows x 14 columns]"
      ]
     },
     "execution_count": 22,
     "metadata": {},
     "output_type": "execute_result"
    }
   ],
   "source": [
    "df_clean\n"
   ]
  },
  {
   "cell_type": "code",
   "execution_count": 23,
   "id": "6b1a71ec",
   "metadata": {},
   "outputs": [
    {
     "data": {
      "text/html": [
       "<div>\n",
       "<style scoped>\n",
       "    .dataframe tbody tr th:only-of-type {\n",
       "        vertical-align: middle;\n",
       "    }\n",
       "\n",
       "    .dataframe tbody tr th {\n",
       "        vertical-align: top;\n",
       "    }\n",
       "\n",
       "    .dataframe thead th {\n",
       "        text-align: right;\n",
       "    }\n",
       "</style>\n",
       "<table border=\"1\" class=\"dataframe\">\n",
       "  <thead>\n",
       "    <tr style=\"text-align: right;\">\n",
       "      <th></th>\n",
       "      <th>MyUnknownColumn</th>\n",
       "      <th>Loan_ID</th>\n",
       "      <th>Gender</th>\n",
       "      <th>Married</th>\n",
       "      <th>Dependents</th>\n",
       "      <th>Education</th>\n",
       "      <th>Self_Employed</th>\n",
       "      <th>ApplicantIncome</th>\n",
       "      <th>CoapplicantIncome</th>\n",
       "      <th>LoanAmount</th>\n",
       "      <th>Loan_Amount_Term</th>\n",
       "      <th>Credit_History</th>\n",
       "      <th>Property_Area</th>\n",
       "      <th>Loan_Status</th>\n",
       "    </tr>\n",
       "  </thead>\n",
       "  <tbody>\n",
       "    <tr>\n",
       "      <th>0</th>\n",
       "      <td>0</td>\n",
       "      <td>LP001002</td>\n",
       "      <td>Male</td>\n",
       "      <td>No</td>\n",
       "      <td>0</td>\n",
       "      <td>Graduate</td>\n",
       "      <td>No</td>\n",
       "      <td>5849</td>\n",
       "      <td>0.0</td>\n",
       "      <td>128.0</td>\n",
       "      <td>360.0</td>\n",
       "      <td>1.0</td>\n",
       "      <td>Urban</td>\n",
       "      <td>Y</td>\n",
       "    </tr>\n",
       "    <tr>\n",
       "      <th>1</th>\n",
       "      <td>1</td>\n",
       "      <td>LP001003</td>\n",
       "      <td>Male</td>\n",
       "      <td>Yes</td>\n",
       "      <td>1</td>\n",
       "      <td>Graduate</td>\n",
       "      <td>No</td>\n",
       "      <td>4583</td>\n",
       "      <td>1508.0</td>\n",
       "      <td>128.0</td>\n",
       "      <td>360.0</td>\n",
       "      <td>1.0</td>\n",
       "      <td>Rural</td>\n",
       "      <td>N</td>\n",
       "    </tr>\n",
       "    <tr>\n",
       "      <th>2</th>\n",
       "      <td>2</td>\n",
       "      <td>LP001005</td>\n",
       "      <td>Male</td>\n",
       "      <td>Yes</td>\n",
       "      <td>0</td>\n",
       "      <td>Graduate</td>\n",
       "      <td>Yes</td>\n",
       "      <td>3000</td>\n",
       "      <td>0.0</td>\n",
       "      <td>66.0</td>\n",
       "      <td>360.0</td>\n",
       "      <td>1.0</td>\n",
       "      <td>Urban</td>\n",
       "      <td>Y</td>\n",
       "    </tr>\n",
       "    <tr>\n",
       "      <th>3</th>\n",
       "      <td>3</td>\n",
       "      <td>LP001006</td>\n",
       "      <td>Male</td>\n",
       "      <td>Yes</td>\n",
       "      <td>0</td>\n",
       "      <td>Not Graduate</td>\n",
       "      <td>No</td>\n",
       "      <td>2583</td>\n",
       "      <td>2358.0</td>\n",
       "      <td>120.0</td>\n",
       "      <td>360.0</td>\n",
       "      <td>1.0</td>\n",
       "      <td>Urban</td>\n",
       "      <td>Y</td>\n",
       "    </tr>\n",
       "    <tr>\n",
       "      <th>4</th>\n",
       "      <td>4</td>\n",
       "      <td>LP001008</td>\n",
       "      <td>Male</td>\n",
       "      <td>No</td>\n",
       "      <td>0</td>\n",
       "      <td>Graduate</td>\n",
       "      <td>No</td>\n",
       "      <td>6000</td>\n",
       "      <td>0.0</td>\n",
       "      <td>141.0</td>\n",
       "      <td>360.0</td>\n",
       "      <td>1.0</td>\n",
       "      <td>Urban</td>\n",
       "      <td>Y</td>\n",
       "    </tr>\n",
       "  </tbody>\n",
       "</table>\n",
       "</div>"
      ],
      "text/plain": [
       "   MyUnknownColumn   Loan_ID Gender Married  Dependents     Education  \\\n",
       "0                0  LP001002   Male      No           0      Graduate   \n",
       "1                1  LP001003   Male     Yes           1      Graduate   \n",
       "2                2  LP001005   Male     Yes           0      Graduate   \n",
       "3                3  LP001006   Male     Yes           0  Not Graduate   \n",
       "4                4  LP001008   Male      No           0      Graduate   \n",
       "\n",
       "  Self_Employed  ApplicantIncome  CoapplicantIncome  LoanAmount  \\\n",
       "0            No             5849                0.0       128.0   \n",
       "1            No             4583             1508.0       128.0   \n",
       "2           Yes             3000                0.0        66.0   \n",
       "3            No             2583             2358.0       120.0   \n",
       "4            No             6000                0.0       141.0   \n",
       "\n",
       "   Loan_Amount_Term  Credit_History Property_Area Loan_Status  \n",
       "0             360.0             1.0         Urban           Y  \n",
       "1             360.0             1.0         Rural           N  \n",
       "2             360.0             1.0         Urban           Y  \n",
       "3             360.0             1.0         Urban           Y  \n",
       "4             360.0             1.0         Urban           Y  "
      ]
     },
     "execution_count": 23,
     "metadata": {},
     "output_type": "execute_result"
    }
   ],
   "source": [
    "df_clean.head()"
   ]
  },
  {
   "cell_type": "code",
   "execution_count": 24,
   "id": "e9b0a3e6",
   "metadata": {},
   "outputs": [],
   "source": [
    "# df_clean.drop(['Loan_ID'], axis=1)"
   ]
  },
  {
   "cell_type": "code",
   "execution_count": 25,
   "id": "a5e53fe3",
   "metadata": {},
   "outputs": [
    {
     "data": {
      "text/html": [
       "<div>\n",
       "<style scoped>\n",
       "    .dataframe tbody tr th:only-of-type {\n",
       "        vertical-align: middle;\n",
       "    }\n",
       "\n",
       "    .dataframe tbody tr th {\n",
       "        vertical-align: top;\n",
       "    }\n",
       "\n",
       "    .dataframe thead th {\n",
       "        text-align: right;\n",
       "    }\n",
       "</style>\n",
       "<table border=\"1\" class=\"dataframe\">\n",
       "  <thead>\n",
       "    <tr style=\"text-align: right;\">\n",
       "      <th></th>\n",
       "      <th>MyUnknownColumn</th>\n",
       "      <th>Loan_ID</th>\n",
       "      <th>Gender</th>\n",
       "      <th>Married</th>\n",
       "      <th>Dependents</th>\n",
       "      <th>Education</th>\n",
       "      <th>Self_Employed</th>\n",
       "      <th>ApplicantIncome</th>\n",
       "      <th>CoapplicantIncome</th>\n",
       "      <th>LoanAmount</th>\n",
       "      <th>Loan_Amount_Term</th>\n",
       "      <th>Credit_History</th>\n",
       "      <th>Property_Area</th>\n",
       "      <th>Loan_Status</th>\n",
       "    </tr>\n",
       "  </thead>\n",
       "  <tbody>\n",
       "    <tr>\n",
       "      <th>0</th>\n",
       "      <td>0</td>\n",
       "      <td>LP001002</td>\n",
       "      <td>1</td>\n",
       "      <td>0</td>\n",
       "      <td>0</td>\n",
       "      <td>0</td>\n",
       "      <td>0</td>\n",
       "      <td>5849</td>\n",
       "      <td>0.0</td>\n",
       "      <td>128.0</td>\n",
       "      <td>360.0</td>\n",
       "      <td>1.0</td>\n",
       "      <td>2</td>\n",
       "      <td>1</td>\n",
       "    </tr>\n",
       "    <tr>\n",
       "      <th>1</th>\n",
       "      <td>1</td>\n",
       "      <td>LP001003</td>\n",
       "      <td>1</td>\n",
       "      <td>1</td>\n",
       "      <td>1</td>\n",
       "      <td>0</td>\n",
       "      <td>0</td>\n",
       "      <td>4583</td>\n",
       "      <td>1508.0</td>\n",
       "      <td>128.0</td>\n",
       "      <td>360.0</td>\n",
       "      <td>1.0</td>\n",
       "      <td>0</td>\n",
       "      <td>0</td>\n",
       "    </tr>\n",
       "    <tr>\n",
       "      <th>2</th>\n",
       "      <td>2</td>\n",
       "      <td>LP001005</td>\n",
       "      <td>1</td>\n",
       "      <td>1</td>\n",
       "      <td>0</td>\n",
       "      <td>0</td>\n",
       "      <td>1</td>\n",
       "      <td>3000</td>\n",
       "      <td>0.0</td>\n",
       "      <td>66.0</td>\n",
       "      <td>360.0</td>\n",
       "      <td>1.0</td>\n",
       "      <td>2</td>\n",
       "      <td>1</td>\n",
       "    </tr>\n",
       "    <tr>\n",
       "      <th>3</th>\n",
       "      <td>3</td>\n",
       "      <td>LP001006</td>\n",
       "      <td>1</td>\n",
       "      <td>1</td>\n",
       "      <td>0</td>\n",
       "      <td>1</td>\n",
       "      <td>0</td>\n",
       "      <td>2583</td>\n",
       "      <td>2358.0</td>\n",
       "      <td>120.0</td>\n",
       "      <td>360.0</td>\n",
       "      <td>1.0</td>\n",
       "      <td>2</td>\n",
       "      <td>1</td>\n",
       "    </tr>\n",
       "    <tr>\n",
       "      <th>4</th>\n",
       "      <td>4</td>\n",
       "      <td>LP001008</td>\n",
       "      <td>1</td>\n",
       "      <td>0</td>\n",
       "      <td>0</td>\n",
       "      <td>0</td>\n",
       "      <td>0</td>\n",
       "      <td>6000</td>\n",
       "      <td>0.0</td>\n",
       "      <td>141.0</td>\n",
       "      <td>360.0</td>\n",
       "      <td>1.0</td>\n",
       "      <td>2</td>\n",
       "      <td>1</td>\n",
       "    </tr>\n",
       "    <tr>\n",
       "      <th>...</th>\n",
       "      <td>...</td>\n",
       "      <td>...</td>\n",
       "      <td>...</td>\n",
       "      <td>...</td>\n",
       "      <td>...</td>\n",
       "      <td>...</td>\n",
       "      <td>...</td>\n",
       "      <td>...</td>\n",
       "      <td>...</td>\n",
       "      <td>...</td>\n",
       "      <td>...</td>\n",
       "      <td>...</td>\n",
       "      <td>...</td>\n",
       "      <td>...</td>\n",
       "    </tr>\n",
       "    <tr>\n",
       "      <th>558</th>\n",
       "      <td>608</td>\n",
       "      <td>LP002974</td>\n",
       "      <td>1</td>\n",
       "      <td>1</td>\n",
       "      <td>0</td>\n",
       "      <td>0</td>\n",
       "      <td>0</td>\n",
       "      <td>3232</td>\n",
       "      <td>1950.0</td>\n",
       "      <td>108.0</td>\n",
       "      <td>360.0</td>\n",
       "      <td>1.0</td>\n",
       "      <td>0</td>\n",
       "      <td>1</td>\n",
       "    </tr>\n",
       "    <tr>\n",
       "      <th>559</th>\n",
       "      <td>609</td>\n",
       "      <td>LP002978</td>\n",
       "      <td>0</td>\n",
       "      <td>0</td>\n",
       "      <td>0</td>\n",
       "      <td>0</td>\n",
       "      <td>0</td>\n",
       "      <td>2900</td>\n",
       "      <td>0.0</td>\n",
       "      <td>71.0</td>\n",
       "      <td>360.0</td>\n",
       "      <td>1.0</td>\n",
       "      <td>0</td>\n",
       "      <td>1</td>\n",
       "    </tr>\n",
       "    <tr>\n",
       "      <th>560</th>\n",
       "      <td>611</td>\n",
       "      <td>LP002983</td>\n",
       "      <td>1</td>\n",
       "      <td>1</td>\n",
       "      <td>1</td>\n",
       "      <td>0</td>\n",
       "      <td>0</td>\n",
       "      <td>8072</td>\n",
       "      <td>240.0</td>\n",
       "      <td>253.0</td>\n",
       "      <td>360.0</td>\n",
       "      <td>1.0</td>\n",
       "      <td>2</td>\n",
       "      <td>1</td>\n",
       "    </tr>\n",
       "    <tr>\n",
       "      <th>561</th>\n",
       "      <td>612</td>\n",
       "      <td>LP002984</td>\n",
       "      <td>1</td>\n",
       "      <td>1</td>\n",
       "      <td>2</td>\n",
       "      <td>0</td>\n",
       "      <td>0</td>\n",
       "      <td>7583</td>\n",
       "      <td>0.0</td>\n",
       "      <td>187.0</td>\n",
       "      <td>360.0</td>\n",
       "      <td>1.0</td>\n",
       "      <td>2</td>\n",
       "      <td>1</td>\n",
       "    </tr>\n",
       "    <tr>\n",
       "      <th>562</th>\n",
       "      <td>613</td>\n",
       "      <td>LP002990</td>\n",
       "      <td>0</td>\n",
       "      <td>0</td>\n",
       "      <td>0</td>\n",
       "      <td>0</td>\n",
       "      <td>1</td>\n",
       "      <td>4583</td>\n",
       "      <td>0.0</td>\n",
       "      <td>133.0</td>\n",
       "      <td>360.0</td>\n",
       "      <td>0.0</td>\n",
       "      <td>1</td>\n",
       "      <td>0</td>\n",
       "    </tr>\n",
       "  </tbody>\n",
       "</table>\n",
       "<p>563 rows × 14 columns</p>\n",
       "</div>"
      ],
      "text/plain": [
       "     MyUnknownColumn   Loan_ID  Gender  Married  Dependents  Education  \\\n",
       "0                  0  LP001002       1        0           0          0   \n",
       "1                  1  LP001003       1        1           1          0   \n",
       "2                  2  LP001005       1        1           0          0   \n",
       "3                  3  LP001006       1        1           0          1   \n",
       "4                  4  LP001008       1        0           0          0   \n",
       "..               ...       ...     ...      ...         ...        ...   \n",
       "558              608  LP002974       1        1           0          0   \n",
       "559              609  LP002978       0        0           0          0   \n",
       "560              611  LP002983       1        1           1          0   \n",
       "561              612  LP002984       1        1           2          0   \n",
       "562              613  LP002990       0        0           0          0   \n",
       "\n",
       "     Self_Employed  ApplicantIncome  CoapplicantIncome  LoanAmount  \\\n",
       "0                0             5849                0.0       128.0   \n",
       "1                0             4583             1508.0       128.0   \n",
       "2                1             3000                0.0        66.0   \n",
       "3                0             2583             2358.0       120.0   \n",
       "4                0             6000                0.0       141.0   \n",
       "..             ...              ...                ...         ...   \n",
       "558              0             3232             1950.0       108.0   \n",
       "559              0             2900                0.0        71.0   \n",
       "560              0             8072              240.0       253.0   \n",
       "561              0             7583                0.0       187.0   \n",
       "562              1             4583                0.0       133.0   \n",
       "\n",
       "     Loan_Amount_Term  Credit_History  Property_Area  Loan_Status  \n",
       "0               360.0             1.0              2            1  \n",
       "1               360.0             1.0              0            0  \n",
       "2               360.0             1.0              2            1  \n",
       "3               360.0             1.0              2            1  \n",
       "4               360.0             1.0              2            1  \n",
       "..                ...             ...            ...          ...  \n",
       "558             360.0             1.0              0            1  \n",
       "559             360.0             1.0              0            1  \n",
       "560             360.0             1.0              2            1  \n",
       "561             360.0             1.0              2            1  \n",
       "562             360.0             0.0              1            0  \n",
       "\n",
       "[563 rows x 14 columns]"
      ]
     },
     "execution_count": 25,
     "metadata": {},
     "output_type": "execute_result"
    }
   ],
   "source": [
    "lBE = LabelEncoder()\n",
    "categ = [\"Loan_Status\",\"Gender\", \"Married\", \"Dependents\", \"Education\", \"Self_Employed\", \"Property_Area\"]\n",
    "df_clean[categ] = df_clean[categ].apply(lBE.fit_transform)\n",
    "df_clean"
   ]
  },
  {
   "cell_type": "code",
   "execution_count": 26,
   "id": "3269c5cc",
   "metadata": {},
   "outputs": [],
   "source": [
    "df_clean = df_clean.drop(['Loan_ID', 'MyUnknownColumn'], axis=1)\n"
   ]
  },
  {
   "cell_type": "code",
   "execution_count": 27,
   "id": "63675030",
   "metadata": {},
   "outputs": [],
   "source": [
    "# sur la target\n",
    "# df_clean.Loan_Status=df_clean.Loan_Status.map({'Y':1,'N':0})"
   ]
  },
  {
   "cell_type": "markdown",
   "id": "3fa27127",
   "metadata": {},
   "source": [
    "# Preprocessing"
   ]
  },
  {
   "cell_type": "code",
   "execution_count": 28,
   "id": "bf4cf757",
   "metadata": {},
   "outputs": [
    {
     "data": {
      "text/html": [
       "<div>\n",
       "<style scoped>\n",
       "    .dataframe tbody tr th:only-of-type {\n",
       "        vertical-align: middle;\n",
       "    }\n",
       "\n",
       "    .dataframe tbody tr th {\n",
       "        vertical-align: top;\n",
       "    }\n",
       "\n",
       "    .dataframe thead th {\n",
       "        text-align: right;\n",
       "    }\n",
       "</style>\n",
       "<table border=\"1\" class=\"dataframe\">\n",
       "  <thead>\n",
       "    <tr style=\"text-align: right;\">\n",
       "      <th></th>\n",
       "      <th>Gender</th>\n",
       "      <th>Married</th>\n",
       "      <th>Dependents</th>\n",
       "      <th>Education</th>\n",
       "      <th>Self_Employed</th>\n",
       "      <th>ApplicantIncome</th>\n",
       "      <th>CoapplicantIncome</th>\n",
       "      <th>LoanAmount</th>\n",
       "      <th>Loan_Amount_Term</th>\n",
       "      <th>Credit_History</th>\n",
       "      <th>Property_Area</th>\n",
       "      <th>Loan_Status</th>\n",
       "    </tr>\n",
       "  </thead>\n",
       "  <tbody>\n",
       "    <tr>\n",
       "      <th>0</th>\n",
       "      <td>1</td>\n",
       "      <td>0</td>\n",
       "      <td>0</td>\n",
       "      <td>0</td>\n",
       "      <td>0</td>\n",
       "      <td>5849</td>\n",
       "      <td>0.0</td>\n",
       "      <td>128.0</td>\n",
       "      <td>360.0</td>\n",
       "      <td>1.0</td>\n",
       "      <td>2</td>\n",
       "      <td>1</td>\n",
       "    </tr>\n",
       "    <tr>\n",
       "      <th>1</th>\n",
       "      <td>1</td>\n",
       "      <td>1</td>\n",
       "      <td>1</td>\n",
       "      <td>0</td>\n",
       "      <td>0</td>\n",
       "      <td>4583</td>\n",
       "      <td>1508.0</td>\n",
       "      <td>128.0</td>\n",
       "      <td>360.0</td>\n",
       "      <td>1.0</td>\n",
       "      <td>0</td>\n",
       "      <td>0</td>\n",
       "    </tr>\n",
       "    <tr>\n",
       "      <th>2</th>\n",
       "      <td>1</td>\n",
       "      <td>1</td>\n",
       "      <td>0</td>\n",
       "      <td>0</td>\n",
       "      <td>1</td>\n",
       "      <td>3000</td>\n",
       "      <td>0.0</td>\n",
       "      <td>66.0</td>\n",
       "      <td>360.0</td>\n",
       "      <td>1.0</td>\n",
       "      <td>2</td>\n",
       "      <td>1</td>\n",
       "    </tr>\n",
       "    <tr>\n",
       "      <th>3</th>\n",
       "      <td>1</td>\n",
       "      <td>1</td>\n",
       "      <td>0</td>\n",
       "      <td>1</td>\n",
       "      <td>0</td>\n",
       "      <td>2583</td>\n",
       "      <td>2358.0</td>\n",
       "      <td>120.0</td>\n",
       "      <td>360.0</td>\n",
       "      <td>1.0</td>\n",
       "      <td>2</td>\n",
       "      <td>1</td>\n",
       "    </tr>\n",
       "    <tr>\n",
       "      <th>4</th>\n",
       "      <td>1</td>\n",
       "      <td>0</td>\n",
       "      <td>0</td>\n",
       "      <td>0</td>\n",
       "      <td>0</td>\n",
       "      <td>6000</td>\n",
       "      <td>0.0</td>\n",
       "      <td>141.0</td>\n",
       "      <td>360.0</td>\n",
       "      <td>1.0</td>\n",
       "      <td>2</td>\n",
       "      <td>1</td>\n",
       "    </tr>\n",
       "  </tbody>\n",
       "</table>\n",
       "</div>"
      ],
      "text/plain": [
       "   Gender  Married  Dependents  Education  Self_Employed  ApplicantIncome  \\\n",
       "0       1        0           0          0              0             5849   \n",
       "1       1        1           1          0              0             4583   \n",
       "2       1        1           0          0              1             3000   \n",
       "3       1        1           0          1              0             2583   \n",
       "4       1        0           0          0              0             6000   \n",
       "\n",
       "   CoapplicantIncome  LoanAmount  Loan_Amount_Term  Credit_History  \\\n",
       "0                0.0       128.0             360.0             1.0   \n",
       "1             1508.0       128.0             360.0             1.0   \n",
       "2                0.0        66.0             360.0             1.0   \n",
       "3             2358.0       120.0             360.0             1.0   \n",
       "4                0.0       141.0             360.0             1.0   \n",
       "\n",
       "   Property_Area  Loan_Status  \n",
       "0              2            1  \n",
       "1              0            0  \n",
       "2              2            1  \n",
       "3              2            1  \n",
       "4              2            1  "
      ]
     },
     "execution_count": 28,
     "metadata": {},
     "output_type": "execute_result"
    }
   ],
   "source": [
    "# Convertir le target a une valeur numerique binaire \n",
    "from sklearn.preprocessing import LabelEncoder\n",
    "le = LabelEncoder()\n",
    "df_clean['Loan_Status'] = le.fit_transform(df_clean['Loan_Status'])\n",
    "df_clean.head()"
   ]
  },
  {
   "cell_type": "code",
   "execution_count": 29,
   "id": "f734e9c3",
   "metadata": {},
   "outputs": [],
   "source": [
    "X = df_clean.drop([\"Loan_Status\"], axis=1)\n",
    "y = df_clean.Loan_Status"
   ]
  },
  {
   "cell_type": "code",
   "execution_count": 30,
   "id": "ed3f0aae",
   "metadata": {},
   "outputs": [],
   "source": [
    "# X_train, X_test, y_train, y_test = train_test_split(X , y , random_state = 42, test_size = 0.2)"
   ]
  },
  {
   "cell_type": "code",
   "execution_count": 31,
   "id": "972ebebd",
   "metadata": {},
   "outputs": [],
   "source": [
    "# X_train.shape"
   ]
  },
  {
   "cell_type": "code",
   "execution_count": 32,
   "id": "c7068f60",
   "metadata": {},
   "outputs": [],
   "source": [
    "# y_train.shape"
   ]
  },
  {
   "cell_type": "code",
   "execution_count": 33,
   "id": "209641a2",
   "metadata": {},
   "outputs": [],
   "source": [
    "# preprocessing_StandardScaler = Pipeline(steps=[\n",
    "#     (\"standardscaler\", StandardScaler())])"
   ]
  },
  {
   "cell_type": "code",
   "execution_count": 34,
   "id": "f501a809",
   "metadata": {},
   "outputs": [],
   "source": [
    "# # automatise le SMOTE\n",
    "# Dummy_smote = SMOTE( sampling_strategy='auto')"
   ]
  },
  {
   "cell_type": "code",
   "execution_count": 35,
   "id": "aeeceb9d",
   "metadata": {},
   "outputs": [],
   "source": [
    "# DummyPipeline = imbpipeline(steps=[[\"smote\" , Dummy_smote],\n",
    "#                                [\"classifier\", DummyClassifier()]])"
   ]
  },
  {
   "cell_type": "code",
   "execution_count": 36,
   "id": "f8ee142d",
   "metadata": {},
   "outputs": [],
   "source": [
    "# fit sur le X et y train\n",
    "# DummyPipeline.fit(X_train, y_train)"
   ]
  },
  {
   "cell_type": "code",
   "execution_count": 37,
   "id": "c7c439e0",
   "metadata": {},
   "outputs": [],
   "source": [
    "# df_credit.Loan_Status.head(10)"
   ]
  },
  {
   "cell_type": "code",
   "execution_count": 38,
   "id": "79a2aa9f",
   "metadata": {},
   "outputs": [
    {
     "data": {
      "text/html": [
       "<div>\n",
       "<style scoped>\n",
       "    .dataframe tbody tr th:only-of-type {\n",
       "        vertical-align: middle;\n",
       "    }\n",
       "\n",
       "    .dataframe tbody tr th {\n",
       "        vertical-align: top;\n",
       "    }\n",
       "\n",
       "    .dataframe thead th {\n",
       "        text-align: right;\n",
       "    }\n",
       "</style>\n",
       "<table border=\"1\" class=\"dataframe\">\n",
       "  <thead>\n",
       "    <tr style=\"text-align: right;\">\n",
       "      <th></th>\n",
       "      <th>Gender</th>\n",
       "      <th>Married</th>\n",
       "      <th>Dependents</th>\n",
       "      <th>Education</th>\n",
       "      <th>Self_Employed</th>\n",
       "      <th>ApplicantIncome</th>\n",
       "      <th>CoapplicantIncome</th>\n",
       "      <th>LoanAmount</th>\n",
       "      <th>Loan_Amount_Term</th>\n",
       "      <th>Credit_History</th>\n",
       "      <th>Property_Area</th>\n",
       "      <th>Loan_Status</th>\n",
       "    </tr>\n",
       "  </thead>\n",
       "  <tbody>\n",
       "    <tr>\n",
       "      <th>0</th>\n",
       "      <td>1</td>\n",
       "      <td>0</td>\n",
       "      <td>0</td>\n",
       "      <td>0</td>\n",
       "      <td>0</td>\n",
       "      <td>5849</td>\n",
       "      <td>0.0</td>\n",
       "      <td>128.0</td>\n",
       "      <td>360.0</td>\n",
       "      <td>1.0</td>\n",
       "      <td>2</td>\n",
       "      <td>1</td>\n",
       "    </tr>\n",
       "    <tr>\n",
       "      <th>1</th>\n",
       "      <td>1</td>\n",
       "      <td>1</td>\n",
       "      <td>1</td>\n",
       "      <td>0</td>\n",
       "      <td>0</td>\n",
       "      <td>4583</td>\n",
       "      <td>1508.0</td>\n",
       "      <td>128.0</td>\n",
       "      <td>360.0</td>\n",
       "      <td>1.0</td>\n",
       "      <td>0</td>\n",
       "      <td>0</td>\n",
       "    </tr>\n",
       "    <tr>\n",
       "      <th>2</th>\n",
       "      <td>1</td>\n",
       "      <td>1</td>\n",
       "      <td>0</td>\n",
       "      <td>0</td>\n",
       "      <td>1</td>\n",
       "      <td>3000</td>\n",
       "      <td>0.0</td>\n",
       "      <td>66.0</td>\n",
       "      <td>360.0</td>\n",
       "      <td>1.0</td>\n",
       "      <td>2</td>\n",
       "      <td>1</td>\n",
       "    </tr>\n",
       "    <tr>\n",
       "      <th>3</th>\n",
       "      <td>1</td>\n",
       "      <td>1</td>\n",
       "      <td>0</td>\n",
       "      <td>1</td>\n",
       "      <td>0</td>\n",
       "      <td>2583</td>\n",
       "      <td>2358.0</td>\n",
       "      <td>120.0</td>\n",
       "      <td>360.0</td>\n",
       "      <td>1.0</td>\n",
       "      <td>2</td>\n",
       "      <td>1</td>\n",
       "    </tr>\n",
       "    <tr>\n",
       "      <th>4</th>\n",
       "      <td>1</td>\n",
       "      <td>0</td>\n",
       "      <td>0</td>\n",
       "      <td>0</td>\n",
       "      <td>0</td>\n",
       "      <td>6000</td>\n",
       "      <td>0.0</td>\n",
       "      <td>141.0</td>\n",
       "      <td>360.0</td>\n",
       "      <td>1.0</td>\n",
       "      <td>2</td>\n",
       "      <td>1</td>\n",
       "    </tr>\n",
       "    <tr>\n",
       "      <th>...</th>\n",
       "      <td>...</td>\n",
       "      <td>...</td>\n",
       "      <td>...</td>\n",
       "      <td>...</td>\n",
       "      <td>...</td>\n",
       "      <td>...</td>\n",
       "      <td>...</td>\n",
       "      <td>...</td>\n",
       "      <td>...</td>\n",
       "      <td>...</td>\n",
       "      <td>...</td>\n",
       "      <td>...</td>\n",
       "    </tr>\n",
       "    <tr>\n",
       "      <th>558</th>\n",
       "      <td>1</td>\n",
       "      <td>1</td>\n",
       "      <td>0</td>\n",
       "      <td>0</td>\n",
       "      <td>0</td>\n",
       "      <td>3232</td>\n",
       "      <td>1950.0</td>\n",
       "      <td>108.0</td>\n",
       "      <td>360.0</td>\n",
       "      <td>1.0</td>\n",
       "      <td>0</td>\n",
       "      <td>1</td>\n",
       "    </tr>\n",
       "    <tr>\n",
       "      <th>559</th>\n",
       "      <td>0</td>\n",
       "      <td>0</td>\n",
       "      <td>0</td>\n",
       "      <td>0</td>\n",
       "      <td>0</td>\n",
       "      <td>2900</td>\n",
       "      <td>0.0</td>\n",
       "      <td>71.0</td>\n",
       "      <td>360.0</td>\n",
       "      <td>1.0</td>\n",
       "      <td>0</td>\n",
       "      <td>1</td>\n",
       "    </tr>\n",
       "    <tr>\n",
       "      <th>560</th>\n",
       "      <td>1</td>\n",
       "      <td>1</td>\n",
       "      <td>1</td>\n",
       "      <td>0</td>\n",
       "      <td>0</td>\n",
       "      <td>8072</td>\n",
       "      <td>240.0</td>\n",
       "      <td>253.0</td>\n",
       "      <td>360.0</td>\n",
       "      <td>1.0</td>\n",
       "      <td>2</td>\n",
       "      <td>1</td>\n",
       "    </tr>\n",
       "    <tr>\n",
       "      <th>561</th>\n",
       "      <td>1</td>\n",
       "      <td>1</td>\n",
       "      <td>2</td>\n",
       "      <td>0</td>\n",
       "      <td>0</td>\n",
       "      <td>7583</td>\n",
       "      <td>0.0</td>\n",
       "      <td>187.0</td>\n",
       "      <td>360.0</td>\n",
       "      <td>1.0</td>\n",
       "      <td>2</td>\n",
       "      <td>1</td>\n",
       "    </tr>\n",
       "    <tr>\n",
       "      <th>562</th>\n",
       "      <td>0</td>\n",
       "      <td>0</td>\n",
       "      <td>0</td>\n",
       "      <td>0</td>\n",
       "      <td>1</td>\n",
       "      <td>4583</td>\n",
       "      <td>0.0</td>\n",
       "      <td>133.0</td>\n",
       "      <td>360.0</td>\n",
       "      <td>0.0</td>\n",
       "      <td>1</td>\n",
       "      <td>0</td>\n",
       "    </tr>\n",
       "  </tbody>\n",
       "</table>\n",
       "<p>563 rows × 12 columns</p>\n",
       "</div>"
      ],
      "text/plain": [
       "     Gender  Married  Dependents  Education  Self_Employed  ApplicantIncome  \\\n",
       "0         1        0           0          0              0             5849   \n",
       "1         1        1           1          0              0             4583   \n",
       "2         1        1           0          0              1             3000   \n",
       "3         1        1           0          1              0             2583   \n",
       "4         1        0           0          0              0             6000   \n",
       "..      ...      ...         ...        ...            ...              ...   \n",
       "558       1        1           0          0              0             3232   \n",
       "559       0        0           0          0              0             2900   \n",
       "560       1        1           1          0              0             8072   \n",
       "561       1        1           2          0              0             7583   \n",
       "562       0        0           0          0              1             4583   \n",
       "\n",
       "     CoapplicantIncome  LoanAmount  Loan_Amount_Term  Credit_History  \\\n",
       "0                  0.0       128.0             360.0             1.0   \n",
       "1               1508.0       128.0             360.0             1.0   \n",
       "2                  0.0        66.0             360.0             1.0   \n",
       "3               2358.0       120.0             360.0             1.0   \n",
       "4                  0.0       141.0             360.0             1.0   \n",
       "..                 ...         ...               ...             ...   \n",
       "558             1950.0       108.0             360.0             1.0   \n",
       "559                0.0        71.0             360.0             1.0   \n",
       "560              240.0       253.0             360.0             1.0   \n",
       "561                0.0       187.0             360.0             1.0   \n",
       "562                0.0       133.0             360.0             0.0   \n",
       "\n",
       "     Property_Area  Loan_Status  \n",
       "0                2            1  \n",
       "1                0            0  \n",
       "2                2            1  \n",
       "3                2            1  \n",
       "4                2            1  \n",
       "..             ...          ...  \n",
       "558              0            1  \n",
       "559              0            1  \n",
       "560              2            1  \n",
       "561              2            1  \n",
       "562              1            0  \n",
       "\n",
       "[563 rows x 12 columns]"
      ]
     },
     "execution_count": 38,
     "metadata": {},
     "output_type": "execute_result"
    }
   ],
   "source": [
    "df_clean"
   ]
  },
  {
   "cell_type": "code",
   "execution_count": 39,
   "id": "161fafcf",
   "metadata": {},
   "outputs": [],
   "source": [
    "df_clean.dropna(inplace=True)\n"
   ]
  },
  {
   "cell_type": "code",
   "execution_count": 40,
   "id": "2efcfba3",
   "metadata": {},
   "outputs": [],
   "source": [
    "# df_clean[:-2]"
   ]
  },
  {
   "cell_type": "code",
   "execution_count": 41,
   "id": "770686f7",
   "metadata": {},
   "outputs": [
    {
     "data": {
      "text/plain": [
       "0"
      ]
     },
     "execution_count": 41,
     "metadata": {},
     "output_type": "execute_result"
    }
   ],
   "source": [
    "y.isnull().sum()"
   ]
  },
  {
   "cell_type": "code",
   "execution_count": 42,
   "id": "0c73d0d1",
   "metadata": {},
   "outputs": [],
   "source": [
    "# X_train, X_test, y_train, y_test = train_test_split(X , y , random_state = 42, test_size = 0.2)"
   ]
  },
  {
   "cell_type": "code",
   "execution_count": 43,
   "id": "7662ea98",
   "metadata": {},
   "outputs": [],
   "source": [
    "# X = df_clean.drop([\"Loan_Status\"], axis=1)\n",
    "# y = df_clean.Loan_Status"
   ]
  },
  {
   "cell_type": "code",
   "execution_count": 44,
   "id": "b1d403d1",
   "metadata": {},
   "outputs": [],
   "source": [
    "# X_train.shape"
   ]
  },
  {
   "cell_type": "code",
   "execution_count": 45,
   "id": "f9ebb17d",
   "metadata": {},
   "outputs": [],
   "source": [
    "X_train, X_test, y_train, y_test = train_test_split(X , y , test_size = 0.2 , random_state = 42 )"
   ]
  },
  {
   "cell_type": "code",
   "execution_count": 46,
   "id": "d3d40f56",
   "metadata": {},
   "outputs": [],
   "source": [
    "# y_train = LabelEncoder()\n",
    "# categ = ['Loan_Status']\n",
    "# df_clean[categ] = df_clean[categ].apply(lBE.fit_transform)\n",
    "# df_clean"
   ]
  },
  {
   "cell_type": "code",
   "execution_count": 47,
   "id": "f46074ee",
   "metadata": {},
   "outputs": [],
   "source": [
    "# ohe = OneHotEncoder(handle_unknown='ignore')\n",
    "# X_train_ohe=pd.DataFrame(ohe.fit_transform(X_train[[\"Gender\", \"Married\", \"Dependents\", \"Education\", \"Self_Employed\", \"ApplicantIncome\", \"CoapplicantIncome\", \"LoanAmount\", \"Loan_Amount_Term\", \"Credit_History\", \"Property_Area\"]]).toarray())\n",
    "# X_train_ohe.columns = ohe.get_feature_names([\"Gender\", \"Married\", \"Dependents\", \"Education\", \"Self_Employed\", \"ApplicantIncome\", \"CoapplicantIncome\", \"LoanAmount\", \"Loan_Amount_Term\", \"Credit_History\", \"Property_Area\"])\n",
    "\n",
    "# X_test_ohe=pd.DataFrame(ohe.transform(X_test[[\"Gender\", \"Married\", \"Dependents\", \"Education\", \"Self_Employed\", \"ApplicantIncome\", \"CoapplicantIncome\", \"LoanAmount\", \"Loan_Amount_Term\", \"Credit_History\", \"Property_Area\"]]).toarray())\n",
    "# X_test_ohe.columns = ohe.get_feature_names([\"Gender\", \"Married\", \"Dependents\", \"Education\", \"Self_Employed\", \"ApplicantIncome\", \"CoapplicantIncome\", \"LoanAmount\", \"Loan_Amount_Term\", \"Credit_History\", \"Property_Area\"])"
   ]
  },
  {
   "cell_type": "markdown",
   "id": "960bb1d2",
   "metadata": {},
   "source": [
    "# FEATURE SCALING"
   ]
  },
  {
   "cell_type": "markdown",
   "id": "db49d90b",
   "metadata": {},
   "source": []
  },
  {
   "cell_type": "code",
   "execution_count": 48,
   "id": "b462e3e5",
   "metadata": {},
   "outputs": [],
   "source": [
    "# sc = StandardScaler()\n",
    "# X_train = sc.fit_transform(X_train)\n",
    "# X_test = sc.transform(X_test)"
   ]
  },
  {
   "cell_type": "code",
   "execution_count": 49,
   "id": "3b9f0652",
   "metadata": {},
   "outputs": [],
   "source": [
    "preprocessing_MinMaxScaler = Pipeline(steps=[\n",
    "    (\"MinMaxscaler\", MinMaxScaler())])"
   ]
  },
  {
   "cell_type": "code",
   "execution_count": 50,
   "id": "ba5a5b31",
   "metadata": {},
   "outputs": [],
   "source": [
    "# preprocessing_StandardScaler = Pipeline(steps=[\n",
    "#     (\"standardscaler\", StandardScaler())])"
   ]
  },
  {
   "cell_type": "code",
   "execution_count": 51,
   "id": "b20a9d1e",
   "metadata": {},
   "outputs": [],
   "source": [
    "sm = SMOTE(sampling_strategy='auto')"
   ]
  },
  {
   "cell_type": "code",
   "execution_count": 52,
   "id": "c02fc4e1",
   "metadata": {},
   "outputs": [],
   "source": [
    "# colors = [\"#69b3a2\", \"#4374B3\"]\n",
    "# sns.set_palette(sns.color_palette(colors))\n",
    "\n",
    "# df_clean_value = df_clean['Loan_Status'].value_counts()\n",
    "# plt.figure(figsize=(8,8))\n",
    "# plt.pie(df_clean_value,autopct='%1.2f%%',labels=df_clean_value.index)\n",
    "# plt.show()"
   ]
  },
  {
   "cell_type": "markdown",
   "id": "7c838d72",
   "metadata": {},
   "source": [
    "# 1) Iteration_DummyClassifier"
   ]
  },
  {
   "cell_type": "code",
   "execution_count": 53,
   "id": "cdc88af3",
   "metadata": {},
   "outputs": [],
   "source": [
    "Dummy_smote = SMOTE(sampling_strategy='auto')"
   ]
  },
  {
   "cell_type": "code",
   "execution_count": 54,
   "id": "14aa3877",
   "metadata": {},
   "outputs": [],
   "source": [
    "DummyPipeline = imbpipeline(steps=[[\"smote\", Dummy_smote],\n",
    "                                  [\"classifier\", DummyClassifier()]])"
   ]
  },
  {
   "cell_type": "code",
   "execution_count": 55,
   "id": "57fa8ddd",
   "metadata": {},
   "outputs": [],
   "source": [
    "# LogicReg = Pipeline(steps = [['preprocessing_MinMaxScaler', preprocessing_MinMaxScaler],\n",
    "#                                     ['classifier', LogisticRegression()]])"
   ]
  },
  {
   "cell_type": "code",
   "execution_count": 56,
   "id": "558b4a48",
   "metadata": {},
   "outputs": [],
   "source": [
    "pipeline_DC = imbpipeline(steps = [['SMOTE', sm],\n",
    "                                    ['classifier', DummyClassifier(strategy=\"uniform\")]\n",
    "                                    ])"
   ]
  },
  {
   "cell_type": "code",
   "execution_count": 57,
   "id": "7236ac3a",
   "metadata": {},
   "outputs": [],
   "source": [
    "pipeline_DC = imbpipeline(steps = [['SMOTE', sm],\n",
    "                                    ['classifier', DummyClassifier(strategy=\"uniform\")]\n",
    "                                    ])"
   ]
  },
  {
   "cell_type": "code",
   "execution_count": 58,
   "id": "aafd5c99",
   "metadata": {},
   "outputs": [
    {
     "data": {
      "text/plain": [
       "Pipeline(steps=[('SMOTE', SMOTE()),\n",
       "                ['classifier', DummyClassifier(strategy='uniform')]])"
      ]
     },
     "execution_count": 58,
     "metadata": {},
     "output_type": "execute_result"
    }
   ],
   "source": [
    "pipeline_DC.fit(X_train, y_train)"
   ]
  },
  {
   "cell_type": "code",
   "execution_count": 59,
   "id": "d598b8c7",
   "metadata": {},
   "outputs": [],
   "source": [
    "pipeline_DC = Pipeline(steps = [['preprocessing_MinMaxScaler', preprocessing_MinMaxScaler],\n",
    "                                    ['classifier', DummyClassifier(strategy=\"uniform\")]\n",
    "                                    ])"
   ]
  },
  {
   "cell_type": "code",
   "execution_count": 60,
   "id": "78a3dd03",
   "metadata": {},
   "outputs": [
    {
     "data": {
      "text/plain": [
       "Pipeline(steps=[('preprocessing_MinMaxScaler',\n",
       "                 Pipeline(steps=[('MinMaxscaler', MinMaxScaler())])),\n",
       "                ['classifier', DummyClassifier(strategy='uniform')]])"
      ]
     },
     "execution_count": 60,
     "metadata": {},
     "output_type": "execute_result"
    }
   ],
   "source": [
    "pipeline_DC.fit(X_train, y_train)"
   ]
  },
  {
   "cell_type": "code",
   "execution_count": 61,
   "id": "16857d92",
   "metadata": {},
   "outputs": [
    {
     "name": "stdout",
     "output_type": "stream",
     "text": [
      "accuracy train : 0.504\n",
      "accuracy test : 0.496\n"
     ]
    }
   ],
   "source": [
    "print(\"accuracy train : %.3f\"%pipeline_DC.score(X_train , y_train))\n",
    "print(\"accuracy test : %.3f\"%pipeline_DC.score(X_test , y_test))"
   ]
  },
  {
   "cell_type": "code",
   "execution_count": 62,
   "id": "42a0d418",
   "metadata": {},
   "outputs": [],
   "source": [
    "y_pred_pipeline_DC = pipeline_DC.predict(X_test) "
   ]
  },
  {
   "cell_type": "code",
   "execution_count": 63,
   "id": "0e44e8f0",
   "metadata": {},
   "outputs": [
    {
     "name": "stdout",
     "output_type": "stream",
     "text": [
      "              precision    recall  f1-score   support\n",
      "\n",
      "           0       0.24      0.34      0.28        38\n",
      "           1       0.58      0.45      0.51        75\n",
      "\n",
      "    accuracy                           0.42       113\n",
      "   macro avg       0.41      0.40      0.40       113\n",
      "weighted avg       0.46      0.42      0.43       113\n",
      "\n"
     ]
    }
   ],
   "source": [
    "print(classification_report(y_test, y_pred_pipeline_DC))"
   ]
  },
  {
   "cell_type": "markdown",
   "id": "4c4e00a5",
   "metadata": {},
   "source": [
    "# Matrice confusion"
   ]
  },
  {
   "cell_type": "code",
   "execution_count": 64,
   "id": "b4bd6a6a",
   "metadata": {},
   "outputs": [
    {
     "data": {
      "image/png": "[encoded data removed]",
      "text/plain": [
       "<Figure size 576x396 with 2 Axes>"
      ]
     },
     "metadata": {},
     "output_type": "display_data"
    }
   ],
   "source": [
    "def plot_confusion_matrix(y, y_pred):\n",
    "     cm = confusion_matrix(y, y_pred)\n",
    "     sns.heatmap(cm, annot=True, fmt=\".0f\")\n",
    "     plt.xlabel('y_pred')\n",
    "     plt.ylabel('y')\n",
    "     plt.show()\n",
    "\n",
    "plot_confusion_matrix(y_test, y_pred_pipeline_DC)"
   ]
  },
  {
   "cell_type": "markdown",
   "id": "95b18f82",
   "metadata": {},
   "source": [
    "# Learning-Curve"
   ]
  },
  {
   "cell_type": "code",
   "execution_count": 65,
   "id": "47639e0e",
   "metadata": {},
   "outputs": [
    {
     "data": {
      "text/plain": [
       "<AxesSubplot:title={'center':'Learning Curve'}, xlabel='Training examples', ylabel='Score'>"
      ]
     },
     "execution_count": 65,
     "metadata": {},
     "output_type": "execute_result"
    },
    {
     "data": {
      "image/png": "[encoded data removed]",
      "text/plain": [
       "<Figure size 576x396 with 1 Axes>"
      ]
     },
     "metadata": {},
     "output_type": "display_data"
    }
   ],
   "source": [
    "plot_learning_curve(pipeline_DC, X_test , y_test)"
   ]
  },
  {
   "cell_type": "markdown",
   "id": "55237e4a",
   "metadata": {},
   "source": [
    "# ROC-AUC"
   ]
  },
  {
   "cell_type": "code",
   "execution_count": 66,
   "id": "a00f92e7",
   "metadata": {},
   "outputs": [
    {
     "data": {
      "text/plain": [
       "<AxesSubplot:title={'center':'ROC Curves'}, xlabel='False Positive Rate', ylabel='True Positive Rate'>"
      ]
     },
     "execution_count": 66,
     "metadata": {},
     "output_type": "execute_result"
    },
    {
     "data": {
      "image/png": "[encoded data removed]",
      "text/plain": [
       "<Figure size 576x396 with 1 Axes>"
      ]
     },
     "metadata": {},
     "output_type": "display_data"
    }
   ],
   "source": [
    "pipeline_DC.fit(X_train, y_train)\n",
    "y_probas = pipeline_DC.predict_proba(X_test)\n",
    "skplt.metrics.plot_roc(y_test, y_probas)"
   ]
  },
  {
   "cell_type": "markdown",
   "id": "b38c97ea",
   "metadata": {},
   "source": [
    "# 2) Iteration LogisiticRegression"
   ]
  },
  {
   "cell_type": "code",
   "execution_count": 67,
   "id": "5c81ee56",
   "metadata": {},
   "outputs": [],
   "source": [
    "LogicReg = Pipeline(steps = [['preprocessing_MinMaxScaler', preprocessing_MinMaxScaler],\n",
    "                                    ['classifier', LogisticRegression()]])"
   ]
  },
  {
   "cell_type": "code",
   "execution_count": 68,
   "id": "d643b89f",
   "metadata": {},
   "outputs": [
    {
     "data": {
      "text/plain": [
       "Pipeline(steps=[('preprocessing_MinMaxScaler',\n",
       "                 Pipeline(steps=[('MinMaxscaler', MinMaxScaler())])),\n",
       "                ['classifier', LogisticRegression()]])"
      ]
     },
     "execution_count": 68,
     "metadata": {},
     "output_type": "execute_result"
    }
   ],
   "source": [
    "LogicReg.fit(X_train, y_train)"
   ]
  },
  {
   "cell_type": "code",
   "execution_count": 69,
   "id": "3cf46a70",
   "metadata": {},
   "outputs": [
    {
     "name": "stdout",
     "output_type": "stream",
     "text": [
      "accuracy train : 0.816\n",
      "accuracy test : 0.796\n"
     ]
    }
   ],
   "source": [
    "print(\"accuracy train : %.3f\"%LogicReg.score(X_train, y_train))\n",
    "print(\"accuracy test : %.3f\"%LogicReg.score(X_test , y_test))   "
   ]
  },
  {
   "cell_type": "code",
   "execution_count": 70,
   "id": "3b834156",
   "metadata": {},
   "outputs": [],
   "source": [
    "y_pred_LogicReg = LogicReg.predict(X_test) "
   ]
  },
  {
   "cell_type": "code",
   "execution_count": 71,
   "id": "3c30a21b",
   "metadata": {},
   "outputs": [
    {
     "name": "stdout",
     "output_type": "stream",
     "text": [
      "              precision    recall  f1-score   support\n",
      "\n",
      "           0       1.00      0.39      0.57        38\n",
      "           1       0.77      1.00      0.87        75\n",
      "\n",
      "    accuracy                           0.80       113\n",
      "   macro avg       0.88      0.70      0.72       113\n",
      "weighted avg       0.84      0.80      0.77       113\n",
      "\n"
     ]
    }
   ],
   "source": [
    "print(classification_report(y_test, y_pred_LogicReg))"
   ]
  },
  {
   "cell_type": "code",
   "execution_count": 72,
   "id": "8c652be4",
   "metadata": {},
   "outputs": [
    {
     "data": {
      "image/png": "[encoded data removed]",
      "text/plain": [
       "<Figure size 576x396 with 2 Axes>"
      ]
     },
     "metadata": {},
     "output_type": "display_data"
    }
   ],
   "source": [
    "# Matrice confusion\n",
    "def plot_confusion_matrix(y, y_pred):\n",
    "     cm = confusion_matrix(y, y_pred)\n",
    "     sns.heatmap(cm, annot=True, fmt=\".0f\")\n",
    "     plt.xlabel('y_pred')\n",
    "     plt.ylabel('y')\n",
    "     plt.show()\n",
    "\n",
    "plot_confusion_matrix(y_test, y_pred_LogicReg)"
   ]
  },
  {
   "cell_type": "markdown",
   "id": "b6468abd",
   "metadata": {},
   "source": [
    "# Learning-Curve"
   ]
  },
  {
   "cell_type": "code",
   "execution_count": 73,
   "id": "f7ce7031",
   "metadata": {},
   "outputs": [
    {
     "data": {
      "text/plain": [
       "<AxesSubplot:title={'center':'Learning Curve'}, xlabel='Training examples', ylabel='Score'>"
      ]
     },
     "execution_count": 73,
     "metadata": {},
     "output_type": "execute_result"
    },
    {
     "data": {
      "image/png": "[encoded data removed]",
      "text/plain": [
       "<Figure size 576x396 with 1 Axes>"
      ]
     },
     "metadata": {},
     "output_type": "display_data"
    }
   ],
   "source": [
    "plot_learning_curve(LogicReg,X_test , y_test)"
   ]
  },
  {
   "cell_type": "markdown",
   "id": "85c8412a",
   "metadata": {},
   "source": [
    "# ROC-AUC"
   ]
  },
  {
   "cell_type": "code",
   "execution_count": 74,
   "id": "9e9f1827",
   "metadata": {},
   "outputs": [
    {
     "data": {
      "text/plain": [
       "<AxesSubplot:title={'center':'ROC Curves'}, xlabel='False Positive Rate', ylabel='True Positive Rate'>"
      ]
     },
     "execution_count": 74,
     "metadata": {},
     "output_type": "execute_result"
    },
    {
     "data": {
      "image/png": "[encoded data removed]",
      "text/plain": [
       "<Figure size 576x396 with 1 Axes>"
      ]
     },
     "metadata": {},
     "output_type": "display_data"
    }
   ],
   "source": [
    "LogicReg.fit(X_train, y_train)\n",
    "y_probas = LogicReg.predict_proba(X_test)\n",
    "skplt.metrics.plot_roc(y_test, y_probas)"
   ]
  },
  {
   "cell_type": "markdown",
   "id": "d0702001",
   "metadata": {},
   "source": [
    "# 3) Iteration KNeighborsClassifier"
   ]
  },
  {
   "cell_type": "code",
   "execution_count": 75,
   "id": "8657fa3d",
   "metadata": {},
   "outputs": [],
   "source": [
    "KNC = Pipeline(steps = [['preprocessing_MinMaxScaler', preprocessing_MinMaxScaler],\n",
    "                                    ['classifier', KNeighborsClassifier()]])"
   ]
  },
  {
   "cell_type": "code",
   "execution_count": 76,
   "id": "e17c4dec",
   "metadata": {},
   "outputs": [
    {
     "data": {
      "text/plain": [
       "Pipeline(steps=[('preprocessing_MinMaxScaler',\n",
       "                 Pipeline(steps=[('MinMaxscaler', MinMaxScaler())])),\n",
       "                ['classifier', KNeighborsClassifier()]])"
      ]
     },
     "execution_count": 76,
     "metadata": {},
     "output_type": "execute_result"
    }
   ],
   "source": [
    "KNC.fit(X_train, y_train)   "
   ]
  },
  {
   "cell_type": "code",
   "execution_count": 77,
   "id": "fbacb97f",
   "metadata": {},
   "outputs": [
    {
     "name": "stdout",
     "output_type": "stream",
     "text": [
      "accuracy train : 0.820\n",
      "accuracy test : 0.779\n"
     ]
    }
   ],
   "source": [
    "print(\"accuracy train : %.3f\"%KNC.score(X_train, y_train))\n",
    "print(\"accuracy test : %.3f\"%KNC.score(X_test , y_test))"
   ]
  },
  {
   "cell_type": "code",
   "execution_count": 78,
   "id": "bbe1a39b",
   "metadata": {},
   "outputs": [],
   "source": [
    "y_pred_KNC = KNC.predict(X_test) "
   ]
  },
  {
   "cell_type": "code",
   "execution_count": 79,
   "id": "fd796d72",
   "metadata": {},
   "outputs": [
    {
     "name": "stdout",
     "output_type": "stream",
     "text": [
      "              precision    recall  f1-score   support\n",
      "\n",
      "           0       0.88      0.39      0.55        38\n",
      "           1       0.76      0.97      0.85        75\n",
      "\n",
      "    accuracy                           0.78       113\n",
      "   macro avg       0.82      0.68      0.70       113\n",
      "weighted avg       0.80      0.78      0.75       113\n",
      "\n"
     ]
    }
   ],
   "source": [
    "print(classification_report(y_test, y_pred_KNC))"
   ]
  },
  {
   "cell_type": "markdown",
   "id": "4c4e0c8f",
   "metadata": {},
   "source": [
    "# matrice confusion"
   ]
  },
  {
   "cell_type": "code",
   "execution_count": 80,
   "id": "c1c72988",
   "metadata": {},
   "outputs": [
    {
     "data": {
      "image/png": "[encoded data removed]",
      "text/plain": [
       "<Figure size 576x396 with 2 Axes>"
      ]
     },
     "metadata": {},
     "output_type": "display_data"
    }
   ],
   "source": [
    "def plot_confusion_matrix(y, y_pred):\n",
    "     cm = confusion_matrix(y, y_pred)\n",
    "     sns.heatmap(cm, annot=True, fmt=\".0f\")\n",
    "     plt.xlabel('y_pred')\n",
    "     plt.ylabel('y')\n",
    "     plt.show()\n",
    "\n",
    "plot_confusion_matrix(y_test, y_pred_KNC)"
   ]
  },
  {
   "cell_type": "markdown",
   "id": "dfebce5d",
   "metadata": {},
   "source": [
    "# learning-Curve"
   ]
  },
  {
   "cell_type": "code",
   "execution_count": 81,
   "id": "5a59723f",
   "metadata": {},
   "outputs": [
    {
     "data": {
      "text/plain": [
       "<AxesSubplot:title={'center':'Learning Curve'}, xlabel='Training examples', ylabel='Score'>"
      ]
     },
     "execution_count": 81,
     "metadata": {},
     "output_type": "execute_result"
    },
    {
     "data": {
      "image/png": "[encoded data removed]",
      "text/plain": [
       "<Figure size 576x396 with 1 Axes>"
      ]
     },
     "metadata": {},
     "output_type": "display_data"
    }
   ],
   "source": [
    "plot_learning_curve(KNC,X_test , y_test)"
   ]
  },
  {
   "cell_type": "markdown",
   "id": "41b55a14",
   "metadata": {},
   "source": [
    "# roc-auc"
   ]
  },
  {
   "cell_type": "code",
   "execution_count": 82,
   "id": "4d739f7f",
   "metadata": {},
   "outputs": [
    {
     "data": {
      "text/plain": [
       "<AxesSubplot:title={'center':'ROC Curves'}, xlabel='False Positive Rate', ylabel='True Positive Rate'>"
      ]
     },
     "execution_count": 82,
     "metadata": {},
     "output_type": "execute_result"
    },
    {
     "data": {
      "image/png": "[encoded data removed]",
      "text/plain": [
       "<Figure size 576x396 with 1 Axes>"
      ]
     },
     "metadata": {},
     "output_type": "display_data"
    }
   ],
   "source": [
    "KNC.fit(X_train, y_train) \n",
    "y_probas = KNC.predict_proba(X_test)\n",
    "skplt.metrics.plot_roc(y_test, y_probas)"
   ]
  },
  {
   "cell_type": "markdown",
   "id": "f56036d8",
   "metadata": {},
   "source": [
    "# 4) Iteration- DecisionTree"
   ]
  },
  {
   "cell_type": "code",
   "execution_count": 83,
   "id": "09badc42",
   "metadata": {},
   "outputs": [],
   "source": [
    "DeT = Pipeline(steps = [['preprocessing_MinMaxScaler', preprocessing_MinMaxScaler],\n",
    "                                    ['classifier', DecisionTreeClassifier()]])"
   ]
  },
  {
   "cell_type": "code",
   "execution_count": 84,
   "id": "f7308936",
   "metadata": {},
   "outputs": [
    {
     "data": {
      "text/plain": [
       "Pipeline(steps=[('preprocessing_MinMaxScaler',\n",
       "                 Pipeline(steps=[('MinMaxscaler', MinMaxScaler())])),\n",
       "                ['classifier', KNeighborsClassifier()]])"
      ]
     },
     "execution_count": 84,
     "metadata": {},
     "output_type": "execute_result"
    }
   ],
   "source": [
    "KNC.fit(X_train, y_train)"
   ]
  },
  {
   "cell_type": "code",
   "execution_count": 85,
   "id": "e7bace04",
   "metadata": {},
   "outputs": [
    {
     "name": "stdout",
     "output_type": "stream",
     "text": [
      "accuracy train : 0.820\n",
      "accuracy test : 0.779\n"
     ]
    }
   ],
   "source": [
    "print(\"accuracy train : %.3f\"%KNC.score(X_train, y_train))\n",
    "print(\"accuracy test : %.3f\"%KNC.score(X_test , y_test))"
   ]
  },
  {
   "cell_type": "code",
   "execution_count": 86,
   "id": "40037ec9",
   "metadata": {},
   "outputs": [],
   "source": [
    "y_pred_KNC = KNC.predict(X_test) "
   ]
  },
  {
   "cell_type": "code",
   "execution_count": 87,
   "id": "f8a7a665",
   "metadata": {},
   "outputs": [
    {
     "name": "stdout",
     "output_type": "stream",
     "text": [
      "              precision    recall  f1-score   support\n",
      "\n",
      "           0       0.88      0.39      0.55        38\n",
      "           1       0.76      0.97      0.85        75\n",
      "\n",
      "    accuracy                           0.78       113\n",
      "   macro avg       0.82      0.68      0.70       113\n",
      "weighted avg       0.80      0.78      0.75       113\n",
      "\n"
     ]
    }
   ],
   "source": [
    "print(classification_report(y_test, y_pred_KNC))"
   ]
  },
  {
   "cell_type": "markdown",
   "id": "c532db64",
   "metadata": {},
   "source": [
    "# matrice confusion"
   ]
  },
  {
   "cell_type": "code",
   "execution_count": 88,
   "id": "9efcbb77",
   "metadata": {},
   "outputs": [
    {
     "data": {
      "image/png": "[encoded data removed]",
      "text/plain": [
       "<Figure size 576x396 with 2 Axes>"
      ]
     },
     "metadata": {},
     "output_type": "display_data"
    }
   ],
   "source": [
    "def plot_confusion_matrix(y, y_pred):\n",
    "     cm = confusion_matrix(y, y_pred)\n",
    "     sns.heatmap(cm, annot=True, fmt=\".0f\")\n",
    "     plt.xlabel('y_pred')\n",
    "     plt.ylabel('y')\n",
    "     plt.show()\n",
    "\n",
    "plot_confusion_matrix(y_test, y_pred_KNC)"
   ]
  },
  {
   "cell_type": "markdown",
   "id": "09ad8415",
   "metadata": {},
   "source": [
    "# learning-Curve"
   ]
  },
  {
   "cell_type": "code",
   "execution_count": 89,
   "id": "9f826c18",
   "metadata": {},
   "outputs": [
    {
     "data": {
      "text/plain": [
       "<AxesSubplot:title={'center':'Learning Curve'}, xlabel='Training examples', ylabel='Score'>"
      ]
     },
     "execution_count": 89,
     "metadata": {},
     "output_type": "execute_result"
    },
    {
     "data": {
      "image/png": "[encoded data removed]",
      "text/plain": [
       "<Figure size 576x396 with 1 Axes>"
      ]
     },
     "metadata": {},
     "output_type": "display_data"
    }
   ],
   "source": [
    "plot_learning_curve(KNC, X_test , y_test)"
   ]
  },
  {
   "cell_type": "markdown",
   "id": "af35eedc",
   "metadata": {},
   "source": [
    "# roc-auc"
   ]
  },
  {
   "cell_type": "code",
   "execution_count": 90,
   "id": "204cb814",
   "metadata": {},
   "outputs": [
    {
     "data": {
      "text/plain": [
       "<AxesSubplot:title={'center':'ROC Curves'}, xlabel='False Positive Rate', ylabel='True Positive Rate'>"
      ]
     },
     "execution_count": 90,
     "metadata": {},
     "output_type": "execute_result"
    },
    {
     "data": {
      "image/png": "[encoded data removed]",
      "text/plain": [
       "<Figure size 576x396 with 1 Axes>"
      ]
     },
     "metadata": {},
     "output_type": "display_data"
    }
   ],
   "source": [
    "KNC.fit(X_train, y_train)\n",
    "y_probas = KNC.predict_proba(X_test)\n",
    "skplt.metrics.plot_roc(y_test, y_probas)"
   ]
  },
  {
   "cell_type": "markdown",
   "id": "9d8c967f",
   "metadata": {},
   "source": [
    "# 5) Iteration-Bagging(RandomForestClassifier)"
   ]
  },
  {
   "cell_type": "code",
   "execution_count": 105,
   "id": "8957e177",
   "metadata": {},
   "outputs": [],
   "source": [
    "RFC = Pipeline(steps = [['preprocessing_MinMaxScaler', preprocessing_MinMaxScaler],\n",
    "                                    ['classifier', RandomForestClassifier()]])"
   ]
  },
  {
   "cell_type": "code",
   "execution_count": 106,
   "id": "a4e844fa",
   "metadata": {},
   "outputs": [
    {
     "data": {
      "text/plain": [
       "Pipeline(steps=[('preprocessing_MinMaxScaler',\n",
       "                 Pipeline(steps=[('MinMaxscaler', MinMaxScaler())])),\n",
       "                ['classifier', RandomForestClassifier()]])"
      ]
     },
     "execution_count": 106,
     "metadata": {},
     "output_type": "execute_result"
    }
   ],
   "source": [
    "RFC.fit(X_train, y_train)"
   ]
  },
  {
   "cell_type": "code",
   "execution_count": 107,
   "id": "b12d500b",
   "metadata": {},
   "outputs": [
    {
     "name": "stdout",
     "output_type": "stream",
     "text": [
      "accuracy train : 0.998\n",
      "accuracy test : 0.788\n"
     ]
    }
   ],
   "source": [
    "print(\"accuracy train : %.3f\"%RFC.score(X_train, y_train))\n",
    "print(\"accuracy test : %.3f\"%RFC.score(X_test , y_test))"
   ]
  },
  {
   "cell_type": "code",
   "execution_count": 108,
   "id": "7a32dbda",
   "metadata": {},
   "outputs": [],
   "source": [
    "y_pred_RFC = RFC.predict(X_test) "
   ]
  },
  {
   "cell_type": "code",
   "execution_count": 109,
   "id": "f0853190",
   "metadata": {},
   "outputs": [
    {
     "name": "stdout",
     "output_type": "stream",
     "text": [
      "              precision    recall  f1-score   support\n",
      "\n",
      "           0       0.89      0.42      0.57        38\n",
      "           1       0.77      0.97      0.86        75\n",
      "\n",
      "    accuracy                           0.79       113\n",
      "   macro avg       0.83      0.70      0.72       113\n",
      "weighted avg       0.81      0.79      0.76       113\n",
      "\n"
     ]
    }
   ],
   "source": [
    "print(classification_report(y_test, y_pred_RFC))"
   ]
  },
  {
   "cell_type": "markdown",
   "id": "fe6ceebc",
   "metadata": {},
   "source": [
    "# matrice confusion"
   ]
  },
  {
   "cell_type": "code",
   "execution_count": 110,
   "id": "00e05129",
   "metadata": {},
   "outputs": [
    {
     "data": {
      "image/png": "[encoded data removed]",
      "text/plain": [
       "<Figure size 576x396 with 2 Axes>"
      ]
     },
     "metadata": {},
     "output_type": "display_data"
    }
   ],
   "source": [
    "def plot_confusion_matrix(y, y_pred):\n",
    "     cm = confusion_matrix(y, y_pred)\n",
    "     sns.heatmap(cm, annot=True, fmt=\".0f\")\n",
    "     plt.xlabel('y_pred')\n",
    "     plt.ylabel('y')\n",
    "     plt.show()\n",
    "\n",
    "plot_confusion_matrix(y_test, y_pred_RFC)"
   ]
  },
  {
   "cell_type": "markdown",
   "id": "3bcaa3fa",
   "metadata": {},
   "source": [
    "# learning-Curve"
   ]
  },
  {
   "cell_type": "code",
   "execution_count": 111,
   "id": "eb05f759",
   "metadata": {},
   "outputs": [
    {
     "data": {
      "text/plain": [
       "<AxesSubplot:title={'center':'Learning Curve'}, xlabel='Training examples', ylabel='Score'>"
      ]
     },
     "execution_count": 111,
     "metadata": {},
     "output_type": "execute_result"
    },
    {
     "data": {
      "image/png": "[encoded data removed]",
      "text/plain": [
       "<Figure size 576x396 with 1 Axes>"
      ]
     },
     "metadata": {},
     "output_type": "display_data"
    }
   ],
   "source": [
    "plot_learning_curve(RFC, X_test , y_test)"
   ]
  },
  {
   "cell_type": "markdown",
   "id": "28ae2ae7",
   "metadata": {},
   "source": [
    "# roc-auc"
   ]
  },
  {
   "cell_type": "code",
   "execution_count": 112,
   "id": "0c3a2932",
   "metadata": {},
   "outputs": [
    {
     "data": {
      "text/plain": [
       "<AxesSubplot:title={'center':'ROC Curves'}, xlabel='False Positive Rate', ylabel='True Positive Rate'>"
      ]
     },
     "execution_count": 112,
     "metadata": {},
     "output_type": "execute_result"
    },
    {
     "data": {
      "image/png": "[encoded data removed]",
      "text/plain": [
       "<Figure size 576x396 with 1 Axes>"
      ]
     },
     "metadata": {},
     "output_type": "display_data"
    }
   ],
   "source": [
    "RFC.fit(X_train, y_train)\n",
    "y_probas = RFC.predict_proba(X_test)\n",
    "skplt.metrics.plot_roc(y_test, y_probas)"
   ]
  },
  {
   "cell_type": "markdown",
   "id": "db8d7671",
   "metadata": {},
   "source": [
    "# 6) Iteration-Boosting(GradientBoostingClassifier)"
   ]
  },
  {
   "cell_type": "code",
   "execution_count": 113,
   "id": "6d59bf6e",
   "metadata": {},
   "outputs": [],
   "source": [
    "GBC = Pipeline(steps = [['preprocessing_MinMaxScaler', preprocessing_MinMaxScaler],\n",
    "                                    ['classifier', GradientBoostingClassifier()]])"
   ]
  },
  {
   "cell_type": "code",
   "execution_count": 114,
   "id": "69fab7aa",
   "metadata": {},
   "outputs": [
    {
     "data": {
      "text/plain": [
       "Pipeline(steps=[('preprocessing_MinMaxScaler',\n",
       "                 Pipeline(steps=[('MinMaxscaler', MinMaxScaler())])),\n",
       "                ['classifier', GradientBoostingClassifier()]])"
      ]
     },
     "execution_count": 114,
     "metadata": {},
     "output_type": "execute_result"
    }
   ],
   "source": [
    "GBC.fit(X_train, y_train)"
   ]
  },
  {
   "cell_type": "code",
   "execution_count": 115,
   "id": "d5127068",
   "metadata": {},
   "outputs": [
    {
     "name": "stdout",
     "output_type": "stream",
     "text": [
      "accuracy train : 0.904\n",
      "accuracy test : 0.779\n"
     ]
    }
   ],
   "source": [
    "print(\"accuracy train : %.3f\"%GBC.score(X_train, y_train))\n",
    "print(\"accuracy test : %.3f\"%GBC.score(X_test , y_test))"
   ]
  },
  {
   "cell_type": "code",
   "execution_count": 116,
   "id": "13335d2b",
   "metadata": {},
   "outputs": [],
   "source": [
    "y_pred_GBC = GBC.predict(X_test) "
   ]
  },
  {
   "cell_type": "code",
   "execution_count": 117,
   "id": "5741a007",
   "metadata": {},
   "outputs": [
    {
     "name": "stdout",
     "output_type": "stream",
     "text": [
      "              precision    recall  f1-score   support\n",
      "\n",
      "           0       0.81      0.45      0.58        38\n",
      "           1       0.77      0.95      0.85        75\n",
      "\n",
      "    accuracy                           0.78       113\n",
      "   macro avg       0.79      0.70      0.71       113\n",
      "weighted avg       0.78      0.78      0.76       113\n",
      "\n"
     ]
    }
   ],
   "source": [
    "print(classification_report(y_test, y_pred_GBC))"
   ]
  },
  {
   "cell_type": "markdown",
   "id": "dd006d51",
   "metadata": {},
   "source": [
    "# matrice confusion"
   ]
  },
  {
   "cell_type": "code",
   "execution_count": 142,
   "id": "2d2af094",
   "metadata": {},
   "outputs": [
    {
     "data": {
      "image/png": "[encoded data removed]",
      "text/plain": [
       "<Figure size 576x396 with 2 Axes>"
      ]
     },
     "metadata": {},
     "output_type": "display_data"
    }
   ],
   "source": [
    "def plot_confusion_matrix(y, y_pred):\n",
    "     cm = confusion_matrix(y, y_pred)\n",
    "     sns.heatmap(cm, annot=True, fmt=\".0f\")\n",
    "     plt.xlabel('y_pred')\n",
    "     plt.ylabel('y')\n",
    "     plt.show()\n",
    "\n",
    "plot_confusion_matrix(y_test, y_pred_GBC)"
   ]
  },
  {
   "cell_type": "markdown",
   "id": "d252d997",
   "metadata": {},
   "source": [
    "# learning-Curve"
   ]
  },
  {
   "cell_type": "code",
   "execution_count": 119,
   "id": "3a1c75ef",
   "metadata": {},
   "outputs": [
    {
     "data": {
      "text/plain": [
       "<AxesSubplot:title={'center':'Learning Curve'}, xlabel='Training examples', ylabel='Score'>"
      ]
     },
     "execution_count": 119,
     "metadata": {},
     "output_type": "execute_result"
    },
    {
     "data": {
      "image/png": "[encoded data removed]",
      "text/plain": [
       "<Figure size 576x396 with 1 Axes>"
      ]
     },
     "metadata": {},
     "output_type": "display_data"
    }
   ],
   "source": [
    "plot_learning_curve(GBC,X_test , y_test)"
   ]
  },
  {
   "cell_type": "markdown",
   "id": "2c8383e2",
   "metadata": {},
   "source": [
    "# roc-auc"
   ]
  },
  {
   "cell_type": "code",
   "execution_count": 120,
   "id": "802f89c9",
   "metadata": {},
   "outputs": [
    {
     "data": {
      "text/plain": [
       "<AxesSubplot:title={'center':'ROC Curves'}, xlabel='False Positive Rate', ylabel='True Positive Rate'>"
      ]
     },
     "execution_count": 120,
     "metadata": {},
     "output_type": "execute_result"
    },
    {
     "data": {
      "image/png": "[encoded data removed]",
      "text/plain": [
       "<Figure size 576x396 with 1 Axes>"
      ]
     },
     "metadata": {},
     "output_type": "display_data"
    }
   ],
   "source": [
    "GBC.fit(X_train, y_train)\n",
    "y_probas = GBC.predict_proba(X_test)\n",
    "skplt.metrics.plot_roc(y_test, y_probas)"
   ]
  },
  {
   "cell_type": "code",
   "execution_count": null,
   "id": "b81a08f4",
   "metadata": {},
   "outputs": [],
   "source": []
  },
  {
   "cell_type": "code",
   "execution_count": 121,
   "id": "e50d7d6d",
   "metadata": {},
   "outputs": [],
   "source": [
    "# model = RandomForestClassifier(n_estimators=100, min_samples_split=25, max_depth=7, max_features=1)\n",
    "# classify(model, X, y)"
   ]
  },
  {
   "cell_type": "code",
   "execution_count": null,
   "id": "e75a1925",
   "metadata": {},
   "outputs": [],
   "source": []
  },
  {
   "cell_type": "code",
   "execution_count": null,
   "id": "f0333640",
   "metadata": {},
   "outputs": [],
   "source": []
  },
  {
   "cell_type": "code",
   "execution_count": null,
   "id": "dccef4db",
   "metadata": {},
   "outputs": [],
   "source": []
  },
  {
   "cell_type": "code",
   "execution_count": null,
   "id": "31d876a5",
   "metadata": {},
   "outputs": [],
   "source": []
  },
  {
   "cell_type": "code",
   "execution_count": 122,
   "id": "2e307f63",
   "metadata": {},
   "outputs": [],
   "source": [
    "# faire une prevision \n",
    "# profil_test=[[1,1,1,0,0,0,1,0,1,0,100,0,400,360]]\n",
    "# RFC.predict(profil_test)"
   ]
  },
  {
   "cell_type": "markdown",
   "id": "71768c86",
   "metadata": {},
   "source": [
    "# Enregsiter le modele"
   ]
  },
  {
   "cell_type": "code",
   "execution_count": 151,
   "id": "bb2a1a98",
   "metadata": {},
   "outputs": [],
   "source": [
    "file = './model_pkl.pickle.pkl'\n",
    "\n",
    "with open('model_pkl.pickle', 'wb') as files:\n",
    "    pickle.dump(RFC, files)"
   ]
  },
  {
   "cell_type": "code",
   "execution_count": 152,
   "id": "245fa5bd",
   "metadata": {},
   "outputs": [],
   "source": [
    "# enregistrer le modèle\n",
    "pickle.dump(RFC,open('model.pkl','wb'))"
   ]
  },
  {
   "cell_type": "code",
   "execution_count": null,
   "id": "37722e4e",
   "metadata": {},
   "outputs": [],
   "source": [
    "# import pickle\n",
    "# # now you can save it to a file\n",
    "# file = './model_pkl.pickle.pkl'\n",
    "# with open('model_pkl.pickle', 'wb') as file:\n",
    "#     pickle.dump(svc, f)"
   ]
  },
  {
   "cell_type": "code",
   "execution_count": 149,
   "id": "7fe9c521",
   "metadata": {},
   "outputs": [],
   "source": [
    "# pickle_out = open(\"classifier.pkl\", mode = 'wb')\n",
    "# pickle.dump(model, pickle_out)\n",
    "# # pickle_out.close()"
   ]
  },
  {
   "cell_type": "code",
   "execution_count": 125,
   "id": "24fd50e6",
   "metadata": {},
   "outputs": [],
   "source": [
    "# filename=\"model.pkl\"\n"
   ]
  },
  {
   "cell_type": "code",
   "execution_count": 126,
   "id": "8e134e81",
   "metadata": {},
   "outputs": [],
   "source": [
    "# import pickle\n",
    "# with open(filename, 'wb') as f:\n",
    "#     pickle.dump(RFC, f)"
   ]
  },
  {
   "cell_type": "code",
   "execution_count": 127,
   "id": "e7b7b808",
   "metadata": {},
   "outputs": [],
   "source": [
    "# with open(filename, 'rb') as f:\n",
    "#     m = pickle.load(f)"
   ]
  },
  {
   "cell_type": "markdown",
   "id": "0ceb5b17",
   "metadata": {},
   "source": [
    "# PICKLE"
   ]
  },
  {
   "cell_type": "code",
   "execution_count": 132,
   "id": "7900459f",
   "metadata": {},
   "outputs": [],
   "source": [
    "# # Export pipeline as pickle file\n",
    "# with open(\"model.pkl\", \"wb\") as file:\n",
    "#     pickle.dump(pipe_model, file)\n",
    "\n",
    "# # Load pipeline from pickle file\n",
    "# my_pipeline = pickle.load(open(\"model.pkl\",\"rb\"))\n",
    "\n",
    "# # Et on test le score\n",
    "# my_pipeline.score(X_test, y_test)"
   ]
  },
  {
   "cell_type": "code",
   "execution_count": 153,
   "id": "ba826712",
   "metadata": {},
   "outputs": [],
   "source": [
    "# import pickle\n",
    "\n",
    "with open(\"model.pkl\", \"wb\") as file:\n",
    "    pickle.dump(RFC, file)"
   ]
  },
  {
   "cell_type": "markdown",
   "id": "9427578c",
   "metadata": {},
   "source": [
    "# MONITORING"
   ]
  },
  {
   "cell_type": "code",
   "execution_count": 99,
   "id": "e8c38ed9",
   "metadata": {},
   "outputs": [],
   "source": [
    "from sqlalchemy import column\n",
    "from sqlalchemy import create_engine\n",
    "# sqlalchemy.py \n",
    "from sqlalchemy import *\n"
   ]
  },
  {
   "cell_type": "code",
   "execution_count": 100,
   "id": "9a1cfa23",
   "metadata": {},
   "outputs": [
    {
     "data": {
      "text/plain": [
       "113"
      ]
     },
     "execution_count": 100,
     "metadata": {},
     "output_type": "execute_result"
    }
   ],
   "source": [
    "engine=create_engine(\"mysql+pymysql://{user}:{pw}@{host}/{db}\".format\n",
    "                     (host=\"localhost\",user=\"root\",pw=\"youcef\",db=\"loan_prediction\"))\n",
    "conne=engine.connect()\n",
    "X_test.to_sql('ml_pred',conne,if_exists='replace',index = False)"
   ]
  },
  {
   "cell_type": "code",
   "execution_count": 101,
   "id": "fea9d572",
   "metadata": {},
   "outputs": [],
   "source": [
    "import wandb\n",
    "import random\n",
    "import time\n",
    "import wandb\n",
    "from wandb import AlertLevel"
   ]
  },
  {
   "cell_type": "code",
   "execution_count": 102,
   "id": "b5510d20",
   "metadata": {},
   "outputs": [
    {
     "name": "stderr",
     "output_type": "stream",
     "text": [
      "Retry attempt failed:\n",
      "Traceback (most recent call last):\n",
      "  File \"C:\\Users\\simplon\\anaconda3\\lib\\site-packages\\urllib3\\connection.py\", line 174, in _new_conn\n",
      "    conn = connection.create_connection(\n",
      "  File \"C:\\Users\\simplon\\anaconda3\\lib\\site-packages\\urllib3\\util\\connection.py\", line 72, in create_connection\n",
      "    for res in socket.getaddrinfo(host, port, family, socket.SOCK_STREAM):\n",
      "  File \"C:\\Users\\simplon\\anaconda3\\lib\\socket.py\", line 918, in getaddrinfo\n",
      "    for res in _socket.getaddrinfo(host, port, family, type, proto, flags):\n",
      "socket.gaierror: [Errno 11001] getaddrinfo failed\n",
      "\n",
      "During handling of the above exception, another exception occurred:\n",
      "\n",
      "Traceback (most recent call last):\n",
      "  File \"C:\\Users\\simplon\\anaconda3\\lib\\site-packages\\urllib3\\connectionpool.py\", line 703, in urlopen\n",
      "    httplib_response = self._make_request(\n",
      "  File \"C:\\Users\\simplon\\anaconda3\\lib\\site-packages\\urllib3\\connectionpool.py\", line 386, in _make_request\n",
      "    self._validate_conn(conn)\n",
      "  File \"C:\\Users\\simplon\\anaconda3\\lib\\site-packages\\urllib3\\connectionpool.py\", line 1042, in _validate_conn\n",
      "    conn.connect()\n",
      "  File \"C:\\Users\\simplon\\anaconda3\\lib\\site-packages\\urllib3\\connection.py\", line 358, in connect\n",
      "    self.sock = conn = self._new_conn()\n",
      "  File \"C:\\Users\\simplon\\anaconda3\\lib\\site-packages\\urllib3\\connection.py\", line 186, in _new_conn\n",
      "    raise NewConnectionError(\n",
      "urllib3.exceptions.NewConnectionError: <urllib3.connection.HTTPSConnection object at 0x000001B39A3E5340>: Failed to establish a new connection: [Errno 11001] getaddrinfo failed\n",
      "\n",
      "During handling of the above exception, another exception occurred:\n",
      "\n",
      "Traceback (most recent call last):\n",
      "  File \"C:\\Users\\simplon\\anaconda3\\lib\\site-packages\\requests\\adapters.py\", line 489, in send\n",
      "    resp = conn.urlopen(\n",
      "  File \"C:\\Users\\simplon\\anaconda3\\lib\\site-packages\\urllib3\\connectionpool.py\", line 787, in urlopen\n",
      "    retries = retries.increment(\n",
      "  File \"C:\\Users\\simplon\\anaconda3\\lib\\site-packages\\urllib3\\util\\retry.py\", line 592, in increment\n",
      "    raise MaxRetryError(_pool, url, error or ResponseError(cause))\n",
      "urllib3.exceptions.MaxRetryError: HTTPSConnectionPool(host='api.wandb.ai', port=443): Max retries exceeded with url: /graphql (Caused by NewConnectionError('<urllib3.connection.HTTPSConnection object at 0x000001B39A3E5340>: Failed to establish a new connection: [Errno 11001] getaddrinfo failed'))\n",
      "\n",
      "During handling of the above exception, another exception occurred:\n",
      "\n",
      "Traceback (most recent call last):\n",
      "  File \"C:\\Users\\simplon\\anaconda3\\lib\\site-packages\\wandb\\sdk\\lib\\retry.py\", line 113, in __call__\n",
      "    result = self._call_fn(*args, **kwargs)\n",
      "  File \"C:\\Users\\simplon\\anaconda3\\lib\\site-packages\\wandb\\sdk\\internal\\internal_api.py\", line 209, in execute\n",
      "    return self.client.execute(*args, **kwargs)  # type: ignore\n",
      "  File \"C:\\Users\\simplon\\anaconda3\\lib\\site-packages\\wandb\\vendor\\gql-0.2.0\\wandb_gql\\client.py\", line 52, in execute\n",
      "    result = self._get_result(document, *args, **kwargs)\n",
      "  File \"C:\\Users\\simplon\\anaconda3\\lib\\site-packages\\wandb\\vendor\\gql-0.2.0\\wandb_gql\\client.py\", line 60, in _get_result\n",
      "    return self.transport.execute(document, *args, **kwargs)\n",
      "  File \"C:\\Users\\simplon\\anaconda3\\lib\\site-packages\\wandb\\vendor\\gql-0.2.0\\wandb_gql\\transport\\requests.py\", line 38, in execute\n",
      "    request = requests.post(self.url, **post_args)\n",
      "  File \"C:\\Users\\simplon\\anaconda3\\lib\\site-packages\\requests\\api.py\", line 115, in post\n",
      "    return request(\"post\", url, data=data, json=json, **kwargs)\n",
      "  File \"C:\\Users\\simplon\\anaconda3\\lib\\site-packages\\requests\\api.py\", line 59, in request\n",
      "    return session.request(method=method, url=url, **kwargs)\n",
      "  File \"C:\\Users\\simplon\\anaconda3\\lib\\site-packages\\requests\\sessions.py\", line 587, in request\n",
      "    resp = self.send(prep, **send_kwargs)\n",
      "  File \"C:\\Users\\simplon\\anaconda3\\lib\\site-packages\\requests\\sessions.py\", line 701, in send\n",
      "    r = adapter.send(request, **kwargs)\n",
      "  File \"C:\\Users\\simplon\\anaconda3\\lib\\site-packages\\requests\\adapters.py\", line 565, in send\n",
      "    raise ConnectionError(e, request=request)\n",
      "requests.exceptions.ConnectionError: HTTPSConnectionPool(host='api.wandb.ai', port=443): Max retries exceeded with url: /graphql (Caused by NewConnectionError('<urllib3.connection.HTTPSConnection object at 0x000001B39A3E5340>: Failed to establish a new connection: [Errno 11001] getaddrinfo failed'))\n",
      "wandb: Network error (ConnectionError), entering retry loop.\n",
      "wandb: W&B API key is configured. Use `wandb login --relogin` to force relogin\n"
     ]
    },
    {
     "data": {
      "application/vnd.jupyter.widget-view+json": {
       "model_id": "5e55bc62d823491ca3efffaac807d2b0",
       "version_major": 2,
       "version_minor": 0
      },
      "text/plain": [
       "VBox(children=(Label(value='Waiting for wandb.init()...\\r'), FloatProgress(value=0.01693333333435779, max=1.0)…"
      ]
     },
     "metadata": {},
     "output_type": "display_data"
    },
    {
     "name": "stderr",
     "output_type": "stream",
     "text": [
      "wandb: ERROR Error communicating with wandb process\n",
      "wandb: ERROR For more info see: https://docs.wandb.ai/library/init#init-start-error\n"
     ]
    },
    {
     "name": "stdout",
     "output_type": "stream",
     "text": [
      "Problem at: <ipython-input-102-b0bbd8913674> 2 <module>\n"
     ]
    },
    {
     "ename": "UsageError",
     "evalue": "Error communicating with wandb process\nFor more info see: https://docs.wandb.ai/library/init#init-start-error",
     "output_type": "error",
     "traceback": [
      "\u001b[1;31m---------------------------------------------------------------------------\u001b[0m",
      "\u001b[1;31mUsageError\u001b[0m                                Traceback (most recent call last)",
      "\u001b[1;32m<ipython-input-102-b0bbd8913674>\u001b[0m in \u001b[0;36m<module>\u001b[1;34m\u001b[0m\n\u001b[0;32m      1\u001b[0m \u001b[1;31m# start a new wandb run to track this script\u001b[0m\u001b[1;33m\u001b[0m\u001b[1;33m\u001b[0m\u001b[1;33m\u001b[0m\u001b[0m\n\u001b[1;32m----> 2\u001b[1;33m wandb.init(\n\u001b[0m\u001b[0;32m      3\u001b[0m     \u001b[1;31m# set the wandb project where this run will be logged\u001b[0m\u001b[1;33m\u001b[0m\u001b[1;33m\u001b[0m\u001b[1;33m\u001b[0m\u001b[0m\n\u001b[0;32m      4\u001b[0m     \u001b[0mproject\u001b[0m\u001b[1;33m=\u001b[0m\u001b[1;34m\"my-awesome-project\"\u001b[0m\u001b[1;33m,\u001b[0m\u001b[1;33m\u001b[0m\u001b[1;33m\u001b[0m\u001b[0m\n\u001b[0;32m      5\u001b[0m \u001b[1;33m\u001b[0m\u001b[0m\n",
      "\u001b[1;32m~\\anaconda3\\lib\\site-packages\\wandb\\sdk\\wandb_init.py\u001b[0m in \u001b[0;36minit\u001b[1;34m(job_type, dir, config, project, entity, reinit, tags, group, name, notes, magic, config_exclude_keys, config_include_keys, anonymous, mode, allow_val_change, resume, force, tensorboard, sync_tensorboard, monitor_gym, save_code, id, settings)\u001b[0m\n\u001b[0;32m   1076\u001b[0m         \u001b[0mexcept_exit\u001b[0m \u001b[1;33m=\u001b[0m \u001b[0mwi\u001b[0m\u001b[1;33m.\u001b[0m\u001b[0msettings\u001b[0m\u001b[1;33m.\u001b[0m\u001b[0m_except_exit\u001b[0m\u001b[1;33m\u001b[0m\u001b[1;33m\u001b[0m\u001b[0m\n\u001b[0;32m   1077\u001b[0m         \u001b[1;32mtry\u001b[0m\u001b[1;33m:\u001b[0m\u001b[1;33m\u001b[0m\u001b[1;33m\u001b[0m\u001b[0m\n\u001b[1;32m-> 1078\u001b[1;33m             \u001b[0mrun\u001b[0m \u001b[1;33m=\u001b[0m \u001b[0mwi\u001b[0m\u001b[1;33m.\u001b[0m\u001b[0minit\u001b[0m\u001b[1;33m(\u001b[0m\u001b[1;33m)\u001b[0m\u001b[1;33m\u001b[0m\u001b[1;33m\u001b[0m\u001b[0m\n\u001b[0m\u001b[0;32m   1079\u001b[0m             \u001b[0mexcept_exit\u001b[0m \u001b[1;33m=\u001b[0m \u001b[0mwi\u001b[0m\u001b[1;33m.\u001b[0m\u001b[0msettings\u001b[0m\u001b[1;33m.\u001b[0m\u001b[0m_except_exit\u001b[0m\u001b[1;33m\u001b[0m\u001b[1;33m\u001b[0m\u001b[0m\n\u001b[0;32m   1080\u001b[0m         \u001b[1;32mexcept\u001b[0m \u001b[1;33m(\u001b[0m\u001b[0mKeyboardInterrupt\u001b[0m\u001b[1;33m,\u001b[0m \u001b[0mException\u001b[0m\u001b[1;33m)\u001b[0m \u001b[1;32mas\u001b[0m \u001b[0me\u001b[0m\u001b[1;33m:\u001b[0m\u001b[1;33m\u001b[0m\u001b[1;33m\u001b[0m\u001b[0m\n",
      "\u001b[1;32m~\\anaconda3\\lib\\site-packages\\wandb\\sdk\\wandb_init.py\u001b[0m in \u001b[0;36minit\u001b[1;34m(self)\u001b[0m\n\u001b[0;32m    717\u001b[0m                     \u001b[0mbackend\u001b[0m\u001b[1;33m.\u001b[0m\u001b[0mcleanup\u001b[0m\u001b[1;33m(\u001b[0m\u001b[1;33m)\u001b[0m\u001b[1;33m\u001b[0m\u001b[1;33m\u001b[0m\u001b[0m\n\u001b[0;32m    718\u001b[0m                     \u001b[0mself\u001b[0m\u001b[1;33m.\u001b[0m\u001b[0mteardown\u001b[0m\u001b[1;33m(\u001b[0m\u001b[1;33m)\u001b[0m\u001b[1;33m\u001b[0m\u001b[1;33m\u001b[0m\u001b[0m\n\u001b[1;32m--> 719\u001b[1;33m                 \u001b[1;32mraise\u001b[0m \u001b[0mUsageError\u001b[0m\u001b[1;33m(\u001b[0m\u001b[0merror_message\u001b[0m\u001b[1;33m)\u001b[0m\u001b[1;33m\u001b[0m\u001b[1;33m\u001b[0m\u001b[0m\n\u001b[0m\u001b[0;32m    720\u001b[0m             \u001b[1;32massert\u001b[0m \u001b[0mrun_result\u001b[0m \u001b[1;32mand\u001b[0m \u001b[0mrun_result\u001b[0m\u001b[1;33m.\u001b[0m\u001b[0mrun\u001b[0m\u001b[1;33m\u001b[0m\u001b[1;33m\u001b[0m\u001b[0m\n\u001b[0;32m    721\u001b[0m             \u001b[1;32mif\u001b[0m \u001b[0mrun_result\u001b[0m\u001b[1;33m.\u001b[0m\u001b[0mrun\u001b[0m\u001b[1;33m.\u001b[0m\u001b[0mresumed\u001b[0m\u001b[1;33m:\u001b[0m\u001b[1;33m\u001b[0m\u001b[1;33m\u001b[0m\u001b[0m\n",
      "\u001b[1;31mUsageError\u001b[0m: Error communicating with wandb process\nFor more info see: https://docs.wandb.ai/library/init#init-start-error"
     ]
    }
   ],
   "source": [
    "# start a new wandb run to track this script\n",
    "wandb.init(\n",
    "    # set the wandb project where this run will be logged\n",
    "    project=\"my-awesome-project\",\n",
    "    \n",
    "    # track hyperparameters and run metadata\n",
    "    config={\n",
    "    \"learning_rate\": 0.02,\n",
    "    \"architecture\": \"ML\",\n",
    "    \"dataset\": \"CIFAR-100\",\n",
    "    \"epochs\": 10,\n",
    "    }\n",
    ")\n",
    "\n",
    "# simulate training\n",
    "epochs = 10\n",
    "offset = random.random() / 5\n",
    "for epoch in range(2, epochs):\n",
    "    acc = 1 - 2 ** -epoch - random.random() / epoch - offset\n",
    "    loss = 2 ** -epoch + random.random() / epoch + offset\n",
    "    \n",
    "    # log metrics to wandb\n",
    "    wandb.log({\"acc\": acc, \"loss\": loss})\n",
    "    \n",
    "# [optional] finish the wandb run, necessary in notebooks\n",
    "wandb.finish()"
   ]
  },
  {
   "cell_type": "code",
   "execution_count": null,
   "id": "03889976",
   "metadata": {},
   "outputs": [],
   "source": [
    "acc = 0.85\n",
    "threshold = 0.80\n",
    "\n",
    "if acc < threshold:\n",
    "    wandb.alert(\n",
    "        title=\"Low accuracy\", \n",
    "        text=f\"Accuracy {acc} is below the acceptable theshold {threshold}\",\n",
    "        level=AlertLevel.WARN,\n",
    "        wait_duration=300\n",
    "    )"
   ]
  },
  {
   "cell_type": "code",
   "execution_count": 110,
   "id": "7e336de3",
   "metadata": {},
   "outputs": [],
   "source": [
    "if acc < threshold:\n",
    "    wandb.alert(\n",
    "        title=\"Low accuracy\", \n",
    "        text=f\"Accuracy {acc} is below the acceptable theshold {threshold}\",\n",
    "        level=AlertLevel.WARN,\n",
    "        wait_duration=300\n",
    "    )"
   ]
  },
  {
   "cell_type": "code",
   "execution_count": 106,
   "id": "aa013701",
   "metadata": {},
   "outputs": [],
   "source": [
    "wandb.config = {\n",
    "  \"learning_rate\": 0.001,\n",
    "  \"epochs\": 100,\n",
    "  \"batch_size\": 128\n",
    "}"
   ]
  },
  {
   "cell_type": "code",
   "execution_count": 107,
   "id": "b37ef5ba",
   "metadata": {},
   "outputs": [],
   "source": [
    "# wandb.init(project=\"offline-demo\")"
   ]
  },
  {
   "cell_type": "code",
   "execution_count": 113,
   "id": "50e3622f",
   "metadata": {},
   "outputs": [],
   "source": [
    "# for i in range(100):\n",
    "#   wandb.log({\"accuracy\": i})"
   ]
  },
  {
   "cell_type": "code",
   "execution_count": 109,
   "id": "ba80f200",
   "metadata": {},
   "outputs": [],
   "source": [
    "# for step in range(60):\n",
    "#     wandb.log({'acc': random.random(), 'loss': random.random()})\n",
    "#     time.sleep(1)"
   ]
  },
  {
   "cell_type": "code",
   "execution_count": null,
   "id": "7c22e115",
   "metadata": {},
   "outputs": [],
   "source": []
  },
  {
   "cell_type": "code",
   "execution_count": 150,
   "id": "368af372",
   "metadata": {},
   "outputs": [],
   "source": [
    "# wandb.alert(\n",
    "#     title=\"Low accuracy\", \n",
    "#     text=f\"Accuracy {acc} is below the acceptable threshold {thresh}\"\n",
    "# )"
   ]
  },
  {
   "cell_type": "code",
   "execution_count": 151,
   "id": "cbf8c938",
   "metadata": {},
   "outputs": [],
   "source": [
    "# wandb.log({\"loss\": loss})\n",
    "\n",
    "# # Optional\n",
    "# wandb.watch(model)"
   ]
  },
  {
   "cell_type": "code",
   "execution_count": null,
   "id": "8dcb5ce9",
   "metadata": {},
   "outputs": [],
   "source": []
  }
 ],
 "metadata": {
  "kernelspec": {
   "display_name": "Python 3",
   "language": "python",
   "name": "python3"
  },
  "language_info": {
   "codemirror_mode": {
    "name": "ipython",
    "version": 3
   },
   "file_extension": ".py",
   "mimetype": "text/x-python",
   "name": "python",
   "nbconvert_exporter": "python",
   "pygments_lexer": "ipython3",
   "version": "3.8.8"
  },
  "vscode": {
   "interpreter": {
    "hash": "dc5e084266accb08fb590de201d0bd423abbabcfc99034fb06cb2c67c56f510c"
   }
  }
 },
 "nbformat": 4,
 "nbformat_minor": 5
}
