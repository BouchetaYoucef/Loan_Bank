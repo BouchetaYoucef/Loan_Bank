{
 "cells": [
  {
   "cell_type": "code",
   "execution_count": null,
   "metadata": {},
   "outputs": [],
   "source": []
  }
 ],
 "metadata": {
  "kernelspec": {
   "display_name": "base",
   "language": "python",
   "name": "python3"
  },
  "language_info": {
   "name": "python",
   "version": "3.8.8 (default, Apr 13 2021, 15:08:03) [MSC v.1916 64 bit (AMD64)]"
  },
  "vscode": {
   "interpreter": {
    "hash": "b1d9c8cb19cdb4355941f01768f2b1c0b065934df8a32d2cc69d3848eca19e4c"
   }
  }
 },
 "nbformat": 4,
 "nbformat_minor": 5
}
