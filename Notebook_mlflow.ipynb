{
 "cells": [
  {
   "cell_type": "code",
   "execution_count": null,
   "id": "074b6216",
   "metadata": {},
   "outputs": [],
   "source": [
    "pip install mlflow"
   ]
  },
  {
   "cell_type": "code",
   "execution_count": 1,
   "id": "a589e8b8",
   "metadata": {},
   "outputs": [
    {
     "ename": "ModuleNotFoundError",
     "evalue": "No module named 'mlflow'",
     "output_type": "error",
     "traceback": [
      "\u001b[1;31m---------------------------------------------------------------------------\u001b[0m",
      "\u001b[1;31mModuleNotFoundError\u001b[0m                       Traceback (most recent call last)",
      "\u001b[1;32m<ipython-input-1-f21e5d670866>\u001b[0m in \u001b[0;36m<module>\u001b[1;34m\u001b[0m\n\u001b[1;32m----> 1\u001b[1;33m \u001b[1;32mimport\u001b[0m \u001b[0mmlflow\u001b[0m\u001b[1;33m\u001b[0m\u001b[1;33m\u001b[0m\u001b[0m\n\u001b[0m\u001b[0;32m      2\u001b[0m \u001b[1;32mimport\u001b[0m \u001b[0mmlflow\u001b[0m\u001b[1;33m.\u001b[0m\u001b[0msklearn\u001b[0m\u001b[1;33m\u001b[0m\u001b[1;33m\u001b[0m\u001b[0m\n",
      "\u001b[1;31mModuleNotFoundError\u001b[0m: No module named 'mlflow'"
     ]
    }
   ],
   "source": [
    "import mlflow\n",
    "import mlflow.sklearn"
   ]
  },
  {
   "cell_type": "code",
   "execution_count": null,
   "id": "1d89a120",
   "metadata": {},
   "outputs": [],
   "source": [
    "# connect to localhost\n",
    "mlflow.set_tracking_uri(\"http://127.0.0.1:5000\")\n",
    "mlflow.set_tracking_uri(\"chemin_vers_le_dossier_mlruns_dans_le_dossier\")\n",
    "mlflow.get_tracking_uri()\n",
    "\n",
    "# create new experiment\n",
    "experiment_id = mlflow.create_experiment(\"nom_de_mon_experiment\")"
   ]
  },
  {
   "cell_type": "code",
   "execution_count": null,
   "id": "eab5fb95",
   "metadata": {},
   "outputs": [],
   "source": [
    "# connect to MLFow client\n",
    "from mlfow.tracking import MLflowClient\n",
    "cient = MlflowClient()\n",
    "\n",
    "# pour lancer MLFOW, allez dans le dossier de mon projet (terminal ou terminal de VS code) et lancer avec :\n"
   ]
  },
  {
   "cell_type": "code",
   "execution_count": null,
   "id": "f97c7abb",
   "metadata": {},
   "outputs": [],
   "source": [
    "# register model in MLFLOW\n",
    "#  client.create_registered_model(\"ACP-logistic-regression\")\n",
    "\n",
    "model_name = \"nom_que_je_souhaite\"\n",
    "\n",
    "with mlflow.start_run() as run:\n",
    "    #run_num = run.info.run_id\n",
    "    # model_uri = \"runs:/{run_id}/{artifact_path}\".format(run_id=run_num, artifact_path=model_name)\n",
    "    mlflow.set_tag(\"mlflow.runName\", \"Model app\")\n",
    "    mlflow.set.tag(\"mlflow.user\", \"Youcef\")\n",
    "    mlflow.log_metric('Accuracy', accuracy)\n",
    "    mlflow.log_metric('Recall', recall)\n",
    "    mlflow.log_metric('Precision', precision)\n",
    "    mlflow.log_metric('F1-Score', F1)\n",
    "    mlflow.sklearn.log_model(nom_de_mon_modele, model_name)\n",
    "\n"
   ]
  }
 ],
 "metadata": {
  "kernelspec": {
   "display_name": "base",
   "language": "python",
   "name": "python3"
  },
  "language_info": {
   "codemirror_mode": {
    "name": "ipython",
    "version": 3
   },
   "file_extension": ".py",
   "mimetype": "text/x-python",
   "name": "python",
   "nbconvert_exporter": "python",
   "pygments_lexer": "ipython3",
   "version": "3.8.8 (default, Apr 13 2021, 15:08:03) [MSC v.1916 64 bit (AMD64)]"
  },
  "vscode": {
   "interpreter": {
    "hash": "b1d9c8cb19cdb4355941f01768f2b1c0b065934df8a32d2cc69d3848eca19e4c"
   }
  }
 },
 "nbformat": 4,
 "nbformat_minor": 5
}
